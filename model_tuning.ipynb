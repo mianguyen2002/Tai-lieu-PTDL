{
  "cells": [
    {
      "cell_type": "markdown",
      "metadata": {
        "id": "eE3PAJJHZ0Ol"
      },
      "source": [
        "# 1. Model tuning"
      ]
    },
    {
      "cell_type": "markdown",
      "metadata": {
        "id": "icewp5RnZ0On"
      },
      "source": [
        "## 1.1. Giới thiệu bài toán\n",
        "Xây dựng mô hình nhận dạng ảnh trang phục, gồm các loại trang phục như: Sneaker, Shirt, Dress,..."
      ]
    },
    {
      "cell_type": "markdown",
      "metadata": {
        "id": "BGYu0qJQZ0Ot"
      },
      "source": [
        "## 1.2. Bộ dữ liệu fashion MNIST\n",
        "Bài tập này sử dụng tập dữ liệu Fashion MNIST chứa 70.000 hình ảnh đen trắng gồm một kênh màu được chia thành 10 danh mục khác nhau. Mỗi hình ảnh hiển thị một mặt hàng quần áo ở độ phân giải thấp (28x28 pixel), như trong ví dụ minh hoạ:\n",
        "\n",
        "<img src=\"https://www.tensorflow.org/images/fashion-mnist-sprite.png\">"
      ]
    },
    {
      "cell_type": "markdown",
      "metadata": {
        "id": "_QDC8zfUZ0Ou"
      },
      "source": [
        "Ở đây, 60.000 hình ảnh được sử dụng để huấn luyện và 10.000 hình ảnh để đánh giá mức độ chính xác. Chúng ta có thể tải trực tiếp bộ dữ liệu Fashion MNIST trực tiếp từ TensorFlow.\n",
        "\n",
        "Thao tác nhập và tải dữ liệu Fashion MNIST trực tiếp từ TensorFlow như sau:"
      ]
    },
    {
      "cell_type": "code",
      "execution_count": null,
      "metadata": {
        "colab": {
          "base_uri": "https://localhost:8080/"
        },
        "id": "9mKFYxVvZ0Ou",
        "outputId": "3879134b-345a-420a-9403-4ac86b0f1a06"
      },
      "outputs": [
        {
          "output_type": "stream",
          "name": "stdout",
          "text": [
            "Downloading data from https://storage.googleapis.com/tensorflow/tf-keras-datasets/train-labels-idx1-ubyte.gz\n",
            "29515/29515 [==============================] - 0s 0us/step\n",
            "Downloading data from https://storage.googleapis.com/tensorflow/tf-keras-datasets/train-images-idx3-ubyte.gz\n",
            "26421880/26421880 [==============================] - 0s 0us/step\n",
            "Downloading data from https://storage.googleapis.com/tensorflow/tf-keras-datasets/t10k-labels-idx1-ubyte.gz\n",
            "5148/5148 [==============================] - 0s 0us/step\n",
            "Downloading data from https://storage.googleapis.com/tensorflow/tf-keras-datasets/t10k-images-idx3-ubyte.gz\n",
            "4422102/4422102 [==============================] - 0s 0us/step\n"
          ]
        }
      ],
      "source": [
        "import tensorflow as tf\n",
        "\n",
        "fashion_mnist = tf.keras.datasets.fashion_mnist\n",
        "\n",
        "(train_images, train_labels), (test_images, test_labels) = fashion_mnist.load_data()"
      ]
    },
    {
      "cell_type": "markdown",
      "metadata": {
        "id": "SiuSQDHbZ0Ov"
      },
      "source": [
        "Dữ liệu trả về gồm bốn mảng NumPy array:\n",
        "\n",
        "- Mảng <code>train_images</code> và <code>train_labels</code> là tập huấn luyện - dữ liệu mà mô hình sử dụng để học.\n",
        "- Mô hình được kiểm thử trên tập kiểm thử, mảng <code>test_images</code> và <code>test_labels</code>.\n",
        "\n",
        "Mỗi hình ảnh là một NumPy array 28x28, với các giá trị pixel nằm trong khoảng từ 0 đến 255. Các nhãn là một mảng các số nguyên, từ 0 đến 9. Các nhãn này tương ứng với loại quần áo mà hình ảnh đại diện:\n",
        "\n",
        "| Label | Class       |\n",
        "|-------|-------------|\n",
        "| 0     | T-shirt/top |\n",
        "| 1     | Trouser     |\n",
        "| 2     | Pullover    |\n",
        "| 3     | Dress       |\n",
        "| 4     | Coat        |\n",
        "| 5     | Sandal      |\n",
        "| 6     | Shirt       |\n",
        "| 7     | Sneaker     |\n",
        "| 8     | Bag         |\n",
        "| 9     | Ankle boot  |"
      ]
    },
    {
      "cell_type": "markdown",
      "metadata": {
        "id": "IDSFeK8wZ0Ow"
      },
      "source": [
        "Mỗi hình ảnh được ánh xạ tới một nhãn duy nhất. Vì tên lớp không được bao gồm trong tập dữ liệu, chúng ta lưu trữ chúng ở đây để sử dụng sau này khi vẽ biểu đồ hình ảnh:"
      ]
    },
    {
      "cell_type": "code",
      "execution_count": null,
      "metadata": {
        "id": "jqUXTY3FZ0Ow"
      },
      "outputs": [],
      "source": [
        "class_names = ['T-shirt/top', 'Trouser', 'Pullover', 'Dress', 'Coat',\n",
        "               'Sandal', 'Shirt', 'Sneaker', 'Bag', 'Ankle boot']"
      ]
    },
    {
      "cell_type": "markdown",
      "metadata": {
        "id": "nTeSSNPjZ0Ow"
      },
      "source": [
        "## 1.3. Phân tích dữ liệu\n",
        "\n",
        "Hãy cùng phân tích định dạng của tập dữ liệu trước khi huấn luyện mô hình. Phần sau cho thấy có 60.000 hình ảnh trong tập huấn luyện, với mỗi hình ảnh được biểu thị là 28 x 28 pixel:"
      ]
    },
    {
      "cell_type": "code",
      "execution_count": null,
      "metadata": {
        "colab": {
          "base_uri": "https://localhost:8080/"
        },
        "id": "Qeti--j7Z0Ox",
        "outputId": "a2d1cc79-4b6c-46bb-d7c8-5a074ac609a2"
      },
      "outputs": [
        {
          "output_type": "execute_result",
          "data": {
            "text/plain": [
              "(60000, 28, 28)"
            ]
          },
          "metadata": {},
          "execution_count": 3
        }
      ],
      "source": [
        "train_images.shape"
      ]
    },
    {
      "cell_type": "markdown",
      "metadata": {
        "id": "mnLeL5lsZ0Ox"
      },
      "source": [
        "Tương tự như vậy, có 60.000 nhãn trong tập huấn luyện:"
      ]
    },
    {
      "cell_type": "code",
      "execution_count": null,
      "metadata": {
        "colab": {
          "base_uri": "https://localhost:8080/"
        },
        "id": "5yIuHSnaZ0Oy",
        "outputId": "53d2b943-2a38-4669-e88e-577ee40ccdcf"
      },
      "outputs": [
        {
          "output_type": "execute_result",
          "data": {
            "text/plain": [
              "60000"
            ]
          },
          "metadata": {},
          "execution_count": 4
        }
      ],
      "source": [
        "len(train_labels)"
      ]
    },
    {
      "cell_type": "markdown",
      "metadata": {
        "id": "OSde_J17Z0Oy"
      },
      "source": [
        "Mỗi nhãn là một số nguyên từ 0 đến 9:"
      ]
    },
    {
      "cell_type": "code",
      "execution_count": null,
      "metadata": {
        "colab": {
          "base_uri": "https://localhost:8080/"
        },
        "id": "eWnnop0tZ0Oy",
        "outputId": "148ff5bd-e790-4baa-bacd-3d5111c38a81"
      },
      "outputs": [
        {
          "output_type": "execute_result",
          "data": {
            "text/plain": [
              "array([9, 0, 0, ..., 3, 0, 5], dtype=uint8)"
            ]
          },
          "metadata": {},
          "execution_count": 5
        }
      ],
      "source": [
        "train_labels"
      ]
    },
    {
      "cell_type": "markdown",
      "metadata": {
        "id": "eg16Ud3FZ0Oz"
      },
      "source": [
        "Có 10.000 hình ảnh trong tập kiểm thử. Một lần nữa, mỗi hình ảnh được biểu thị dưới dạng 28 x 28 pixel:"
      ]
    },
    {
      "cell_type": "code",
      "execution_count": null,
      "metadata": {
        "colab": {
          "base_uri": "https://localhost:8080/"
        },
        "id": "T8Hqe8SKZ0Oz",
        "outputId": "900084a7-5c94-48a5-fb3d-0e380744332b"
      },
      "outputs": [
        {
          "output_type": "execute_result",
          "data": {
            "text/plain": [
              "(10000, 28, 28)"
            ]
          },
          "metadata": {},
          "execution_count": 6
        }
      ],
      "source": [
        "test_images.shape"
      ]
    },
    {
      "cell_type": "markdown",
      "metadata": {
        "id": "4L7O4NcTZ0Oz"
      },
      "source": [
        "Và tập kiểm thử chứa 10.000 nhãn hình ảnh:"
      ]
    },
    {
      "cell_type": "code",
      "execution_count": null,
      "metadata": {
        "colab": {
          "base_uri": "https://localhost:8080/"
        },
        "id": "bi-J8-aFZ0Oz",
        "outputId": "20e9ac0c-6498-4589-a66c-ca5b3b529eb1"
      },
      "outputs": [
        {
          "output_type": "execute_result",
          "data": {
            "text/plain": [
              "10000"
            ]
          },
          "metadata": {},
          "execution_count": 7
        }
      ],
      "source": [
        "len(test_labels)"
      ]
    },
    {
      "cell_type": "markdown",
      "metadata": {
        "id": "cIwUwhWIZ0O0"
      },
      "source": [
        "## 1.4. Tiền xử lý dữ liệu\n",
        "\n",
        "Dữ liệu phải được xử lý trước trước khi huấn luyện mạng nơ ron. Nếu ta kiểm tra hình ảnh đầu tiên trong tập huấn luyện, ta sẽ thấy rằng các giá trị pixel nằm trong khoảng từ 0 đến 255:"
      ]
    },
    {
      "cell_type": "code",
      "execution_count": null,
      "metadata": {
        "colab": {
          "base_uri": "https://localhost:8080/",
          "height": 265
        },
        "id": "LxxE6fhYZ0O0",
        "outputId": "a51321b4-9d80-4483-daee-311ceee76d39"
      },
      "outputs": [
        {
          "output_type": "display_data",
          "data": {
            "text/plain": [
              "<Figure size 432x288 with 2 Axes>"
            ],
            "image/png": "[encoded data removed]"
          },
          "metadata": {
            "needs_background": "light"
          }
        }
      ],
      "source": [
        "import matplotlib.pyplot as plt\n",
        "\n",
        "plt.figure()\n",
        "plt.imshow(train_images[0], plt.cm.binary)\n",
        "plt.colorbar()\n",
        "plt.show()"
      ]
    },
    {
      "cell_type": "markdown",
      "metadata": {
        "id": "JrHhNbdXZ0O0"
      },
      "source": [
        "Chuẩn hoá các giá trị này về giá trị từ 0 đến 1 trước khi đưa chúng vào mô hình mạng nơ ron. Để làm như vậy, chúng ta sử dụng min-max feature scaling để chuẩn hoá như sau:\n",
        "\n",
        "$x'=\\frac{x-x_{min}}{x_{max} - x_{min}}$\n",
        "\n",
        "Ở đây $x_{min}=0$ và $x_{max}=255$ nên ta chỉ cần chia các giá trị cho 255. Điều quan trọng là tập huấn luyện và tập kiểm thử phải được xử lý trước theo cùng một cách:"
      ]
    },
    {
      "cell_type": "code",
      "execution_count": null,
      "metadata": {
        "id": "D4HZpM6uZ0O1"
      },
      "outputs": [],
      "source": [
        "train_images = train_images / 255.0\n",
        "\n",
        "test_images = test_images / 255.0"
      ]
    },
    {
      "cell_type": "markdown",
      "metadata": {
        "id": "Rz5LXiOfZ0O1"
      },
      "source": [
        "Để xác minh rằng dữ liệu ở đúng định dạng và bạn đã sẵn sàng xây dựng và huấn luyện mạng nơ ron, chúng ta hiển thị 25 hình ảnh đầu tiên từ tập huấn luyện và hiển thị tên lớp bên dưới mỗi hình ảnh."
      ]
    },
    {
      "cell_type": "code",
      "execution_count": null,
      "metadata": {
        "colab": {
          "base_uri": "https://localhost:8080/",
          "height": 589
        },
        "id": "2uQbm893Z0O1",
        "outputId": "76beb6d2-9b15-4cf0-f7f6-486cf527cc1b"
      },
      "outputs": [
        {
          "output_type": "display_data",
          "data": {
            "text/plain": [
              "<Figure size 720x720 with 25 Axes>"
            ],
            "image/png": "[encoded data removed]"
          },
          "metadata": {}
        }
      ],
      "source": [
        "plt.figure(figsize=(10,10))\n",
        "for i in range(25):\n",
        "    plt.subplot(5,5,i+1)\n",
        "    plt.xticks([])\n",
        "    plt.yticks([])\n",
        "    plt.grid(False)\n",
        "    plt.imshow(train_images[i], cmap=plt.cm.binary)\n",
        "    plt.xlabel(class_names[train_labels[i]])\n",
        "plt.show()"
      ]
    },
    {
      "cell_type": "markdown",
      "metadata": {
        "id": "lL1I3Z8wZ0O1"
      },
      "source": [
        "## 1.5. Xây dựng mô hình mạng nơ ron đơn giản"
      ]
    },
    {
      "cell_type": "markdown",
      "metadata": {
        "id": "0-Mb8-YyZ0O2"
      },
      "source": [
        "Trong phần đầu tiên, chúng ta cùng xây dựng lại một mạng nơ ron đơn giản nhất - mạng nơ ron kết nối đầy đủ trên tập dữ liệu này.\n",
        "\n",
        "Xây dựng mạng nơ ron cần xác định cấu hình các lớp của mô hình, sau đó biên dịch mô hình."
      ]
    },
    {
      "cell_type": "markdown",
      "metadata": {
        "id": "E-xENEABZ0O2"
      },
      "source": [
        "### 1.5.1. Thiết lập mô hình\n",
        "Ta dựng một mạng nơ ron cơ bản gồm\n",
        "- 1 tầng đầu vào 28x28 được làm phẳng thành một vecto 784 chiều.\n",
        "- 1 tầng ẩn có 128 units, hàm kích hoạt relu.\n",
        "- 1 tầng đầu ra 10 units tương ứng với 10 lớp.\n",
        "\n",
        "Mạng được định nghĩa như sau:"
      ]
    },
    {
      "cell_type": "code",
      "execution_count": null,
      "metadata": {
        "id": "ebmvGFQpZ0O2"
      },
      "outputs": [],
      "source": [
        "model = tf.keras.Sequential([\n",
        "    tf.keras.layers.Flatten(input_shape=(28, 28)),\n",
        "    tf.keras.layers.Dense(128, activation='relu'),\n",
        "    tf.keras.layers.Dense(10)\n",
        "])"
      ]
    },
    {
      "cell_type": "markdown",
      "metadata": {
        "id": "6HcHr8d-Z0O2"
      },
      "source": [
        "Để kiểm tra các thông số mô hình ta dùng hàm summary như sau:"
      ]
    },
    {
      "cell_type": "code",
      "execution_count": null,
      "metadata": {
        "colab": {
          "base_uri": "https://localhost:8080/"
        },
        "id": "6zyQ7ytFZ0O2",
        "outputId": "88be1c2c-5abc-4522-a731-bcad3a672177"
      },
      "outputs": [
        {
          "output_type": "stream",
          "name": "stdout",
          "text": [
            "Model: \"sequential\"\n",
            "_________________________________________________________________\n",
            " Layer (type)                Output Shape              Param #   \n",
            "=================================================================\n",
            " flatten (Flatten)           (None, 784)               0         \n",
            "                                                                 \n",
            " dense (Dense)               (None, 128)               100480    \n",
            "                                                                 \n",
            " dense_1 (Dense)             (None, 10)                1290      \n",
            "                                                                 \n",
            "=================================================================\n",
            "Total params: 101,770\n",
            "Trainable params: 101,770\n",
            "Non-trainable params: 0\n",
            "_________________________________________________________________\n"
          ]
        }
      ],
      "source": [
        "model.summary()"
      ]
    },
    {
      "cell_type": "markdown",
      "metadata": {
        "id": "-AkHzv2TZ0O3"
      },
      "source": [
        "### 1.5.2. Biên dịch mô hình\n",
        "Trước khi mô hình sẵn sàng để huấn luyện, ta cần thêm một số cài đặt. Chúng được thêm vào trong bước biên dịch của mô hình:\n",
        "\n",
        "- Hàm mất mát - loss function.\n",
        "- Bộ tối ưu - optimizer.\n",
        "- Các độ đo - metrics."
      ]
    },
    {
      "cell_type": "code",
      "execution_count": null,
      "metadata": {
        "id": "SjBz2s4jZ0O3"
      },
      "outputs": [],
      "source": [
        "model.compile(optimizer='adam',\n",
        "              loss=tf.keras.losses.SparseCategoricalCrossentropy(from_logits=True),\n",
        "              metrics=['accuracy'])"
      ]
    },
    {
      "cell_type": "markdown",
      "metadata": {
        "id": "G-JRNktTZ0O3"
      },
      "source": [
        "### 1.5.3. Huấn luyện mô hình\n",
        "\n",
        "Cung cấp dữ liệu huấn luyện vào mô hình. Trong ví dụ này, dữ liệu huấn luyện nằm trong mảng train_images và train_labels.\n",
        "\n",
        "Để bắt đầu huấn luyện, chúng ta gọi phương thức model.fit:"
      ]
    },
    {
      "cell_type": "code",
      "execution_count": null,
      "metadata": {
        "id": "_5DZkGfAZ0O3"
      },
      "outputs": [],
      "source": [
        "# initial_weights = model.get_weights() # save initial_weights for restoration\n",
        "# model.fit(train_images, train_labels, epochs=10)"
      ]
    },
    {
      "cell_type": "markdown",
      "metadata": {
        "id": "w9adwGOuZ0O3"
      },
      "source": [
        "Khi huấn luyện mô hình, các số liệu về hàm mất mát và độ chính xác được hiển thị. Mô hình này đạt độ chính xác khoảng 0.91 (91%) trên dữ liệu huấn luyện."
      ]
    },
    {
      "cell_type": "markdown",
      "metadata": {
        "id": "gsf6KNhUZ0O3"
      },
      "source": [
        "### 1.5.4. Trực quan hoá quá trình huấn luyện với tensorboard callback\n",
        "\n",
        "Để trực quan hoá quá trình huấn luyện, sự thay đổi của tham số cũng như hàm mất mát và các độ đo. Chúng ta sử dụng tensorboard callback để lưu lại lịch sử chi tiết. Lưu ý: việc này có thể làm chậm quá trình huấn luyện mô hình."
      ]
    },
    {
      "cell_type": "code",
      "execution_count": null,
      "metadata": {
        "colab": {
          "base_uri": "https://localhost:8080/"
        },
        "id": "tPBcfXX9Z0O4",
        "outputId": "0d8fbf81-0d94-4348-dda1-5794ae9dfd4b"
      },
      "outputs": [
        {
          "output_type": "stream",
          "name": "stdout",
          "text": [
            "Epoch 1/10\n",
            "1875/1875 [==============================] - 7s 2ms/step - loss: 0.4947 - accuracy: 0.8248\n",
            "Epoch 2/10\n",
            "1875/1875 [==============================] - 4s 2ms/step - loss: 0.3724 - accuracy: 0.8669\n",
            "Epoch 3/10\n",
            "1875/1875 [==============================] - 4s 2ms/step - loss: 0.3353 - accuracy: 0.8784\n",
            "Epoch 4/10\n",
            "1875/1875 [==============================] - 4s 2ms/step - loss: 0.3119 - accuracy: 0.8853\n",
            "Epoch 5/10\n",
            "1875/1875 [==============================] - 5s 3ms/step - loss: 0.2938 - accuracy: 0.8903\n",
            "Epoch 6/10\n",
            "1875/1875 [==============================] - 7s 4ms/step - loss: 0.2793 - accuracy: 0.8977\n",
            "Epoch 7/10\n",
            "1875/1875 [==============================] - 5s 3ms/step - loss: 0.2670 - accuracy: 0.9012\n",
            "Epoch 8/10\n",
            "1875/1875 [==============================] - 4s 2ms/step - loss: 0.2572 - accuracy: 0.9048\n",
            "Epoch 9/10\n",
            "1875/1875 [==============================] - 4s 2ms/step - loss: 0.2474 - accuracy: 0.9084\n",
            "Epoch 10/10\n",
            "1875/1875 [==============================] - 4s 2ms/step - loss: 0.2385 - accuracy: 0.9098\n"
          ]
        },
        {
          "output_type": "execute_result",
          "data": {
            "text/plain": [
              "<keras.callbacks.History at 0x7fecac6683d0>"
            ]
          },
          "metadata": {},
          "execution_count": 15
        }
      ],
      "source": [
        "# model.set_weights(initial_weights) # restore the initial_weights\n",
        "\n",
        "tensorboard_callback = tf.keras.callbacks.TensorBoard(\n",
        "    log_dir='logs', histogram_freq=1, write_graph=True,\n",
        "    write_images=True, update_freq=1\n",
        ")\n",
        "model.fit(train_images, train_labels, epochs=10, callbacks=[tensorboard_callback])"
      ]
    },
    {
      "cell_type": "markdown",
      "metadata": {
        "id": "h4lJyilNZ0O4"
      },
      "source": [
        "Một cách khác để xem sự thay đổi của mô hình là lấy trực tiếp tham số của mô hình sau từng bước huấn luyện như sau:"
      ]
    },
    {
      "cell_type": "code",
      "execution_count": null,
      "metadata": {
        "colab": {
          "base_uri": "https://localhost:8080/"
        },
        "id": "WhFUdH0xZ0O4",
        "outputId": "4e55f81b-ac66-4b2a-8a5f-1e4cc4effdae"
      },
      "outputs": [
        {
          "output_type": "execute_result",
          "data": {
            "text/plain": [
              "[array([[ 0.04009643, -0.02915703, -0.0654712 , ...,  0.083328  ,\n",
              "         -0.1774987 , -0.29489124],\n",
              "        [ 0.15806586, -0.21689421, -0.2264374 , ..., -0.22609636,\n",
              "         -0.30017182,  0.07326886],\n",
              "        [ 0.2674951 , -0.20769672, -0.20509186, ..., -0.24806914,\n",
              "         -0.28947577, -0.21092713],\n",
              "        ...,\n",
              "        [-0.05858126,  0.07770675, -0.12997685, ..., -0.04147777,\n",
              "         -0.08929964, -0.17485945],\n",
              "        [-0.05592308,  0.0509623 , -0.3128455 , ..., -0.02159997,\n",
              "         -0.03515062, -0.74825144],\n",
              "        [ 0.20628986,  0.21141592, -0.23933156, ...,  0.19514474,\n",
              "          0.22709528, -0.6618782 ]], dtype=float32),\n",
              " array([ 4.71359789e-01,  2.12358370e-01,  6.30354464e-01,  5.02301514e-01,\n",
              "         4.76912528e-01,  1.16453558e-01,  3.13877851e-01,  6.16391778e-01,\n",
              "        -1.43431434e-02,  1.99108317e-01,  4.21499342e-01,  5.89160144e-01,\n",
              "        -1.10108562e-01,  3.31381679e-01, -1.25540629e-01,  1.13178559e-01,\n",
              "         4.10392731e-01, -2.56590039e-01,  6.62978142e-02, -2.26069927e-01,\n",
              "        -1.64136201e-01, -6.36451960e-01,  5.01116402e-02,  2.14982525e-01,\n",
              "        -2.05054060e-01, -1.66868657e-01,  2.04013571e-01,  5.73321700e-01,\n",
              "         6.17375493e-01, -2.48111159e-01,  3.08283895e-01,  1.00522123e-01,\n",
              "        -9.78525802e-02,  3.59098129e-02,  1.92786649e-01,  5.14756501e-01,\n",
              "         2.57180750e-01,  2.96558112e-01,  9.39285815e-01, -1.70639213e-02,\n",
              "         4.46916759e-01, -1.03204930e-02,  1.32734492e-01,  3.98104399e-01,\n",
              "         4.41715479e-01,  2.00280115e-01,  1.32811710e-01,  3.56890857e-01,\n",
              "         1.54178977e-01,  2.89212465e-01,  3.60384583e-01,  3.84010613e-01,\n",
              "        -1.73968747e-01,  4.48213458e-01,  6.95389450e-01,  4.47857797e-01,\n",
              "         2.79154122e-01,  6.79566622e-01, -1.11360140e-02,  1.61836132e-01,\n",
              "         2.72685230e-01,  1.51805431e-01,  1.58236638e-01,  2.72486806e-01,\n",
              "        -1.12936057e-01,  9.41126406e-01, -1.18821310e-02,  8.50167312e-03,\n",
              "         2.08727077e-01,  3.44755471e-01,  4.66338575e-01,  1.13102436e-01,\n",
              "         3.92407775e-01,  9.76190791e-02,  3.98626357e-01, -1.77492559e-01,\n",
              "         2.49406785e-01,  1.67763904e-01, -7.88871839e-04,  7.30756879e-01,\n",
              "        -1.92976184e-02,  6.96234452e-03,  3.95003101e-03,  1.21908888e-01,\n",
              "        -6.07181430e-01,  3.92337888e-01, -1.55903138e-02,  3.01811427e-01,\n",
              "         4.56885010e-01, -1.34253232e-02,  9.29100141e-02, -3.32809120e-01,\n",
              "         1.29677534e-01,  2.77431339e-01, -2.23426268e-01,  4.33264732e-01,\n",
              "         4.29138690e-02,  1.87322482e-01,  2.96285719e-01, -6.11892603e-02,\n",
              "        -1.10346526e-02,  5.22603914e-02,  3.90264988e-01, -8.32114089e-03,\n",
              "         9.78657007e-02, -2.50856400e-01, -4.01512012e-02, -1.04193956e-01,\n",
              "        -1.93733007e-01,  9.88718495e-03, -1.23817315e-02,  1.41414270e-01,\n",
              "         2.37689257e-01,  2.37533208e-02,  2.99025178e-01,  3.82955223e-01,\n",
              "         2.64212698e-01, -1.68811698e-02,  5.93321137e-02,  2.47958601e-01,\n",
              "         4.62252140e-01,  6.42497659e-01, -2.03742385e-02, -1.52135581e-01,\n",
              "         4.66828376e-01,  1.65808126e-01,  8.65798518e-02,  4.60834764e-02],\n",
              "       dtype=float32),\n",
              " array([[ 0.36800042, -0.2164634 , -0.4227726 , ..., -0.49313232,\n",
              "         -0.443908  , -0.12150995],\n",
              "        [-0.19727926,  0.20938613, -0.6249924 , ..., -0.06655555,\n",
              "          0.93813485, -0.38488442],\n",
              "        [-0.8566729 ,  0.30307242, -0.9994354 , ...,  0.17741708,\n",
              "         -0.11048768, -0.14709052],\n",
              "        ...,\n",
              "        [-0.22413099,  0.34447086, -0.13928132, ...,  0.0256515 ,\n",
              "          0.19878963, -0.24795982],\n",
              "        [-0.10118617,  0.155754  ,  0.02837273, ...,  0.02647887,\n",
              "          0.2704493 , -0.39477602],\n",
              "        [-0.11619674,  0.28964147, -0.04514275, ..., -0.26287997,\n",
              "          0.28962573,  0.05917873]], dtype=float32),\n",
              " array([-0.02121519, -0.45503587,  0.20452678,  0.3807161 , -0.42247823,\n",
              "         0.10506254,  0.19187129,  0.16555756, -0.1859002 , -0.4664931 ],\n",
              "       dtype=float32)]"
            ]
          },
          "metadata": {},
          "execution_count": 16
        }
      ],
      "source": [
        "model.get_weights()"
      ]
    },
    {
      "cell_type": "markdown",
      "metadata": {
        "id": "EVVYHL_aZ0O5"
      },
      "source": [
        "### 1.5.5. Đánh giá độ chính xác\n",
        "\n",
        "Tiếp theo, so sánh cách mô hình hoạt động trên tập dữ liệu kiểm thử:"
      ]
    },
    {
      "cell_type": "code",
      "execution_count": null,
      "metadata": {
        "colab": {
          "base_uri": "https://localhost:8080/"
        },
        "id": "pVl91bwGZ0O5",
        "outputId": "5e0741a4-0af2-4c71-de40-aec9e580d793"
      },
      "outputs": [
        {
          "output_type": "stream",
          "name": "stdout",
          "text": [
            "313/313 - 1s - loss: 0.3525 - accuracy: 0.8774 - 669ms/epoch - 2ms/step\n",
            "\n",
            "Test accuracy: 0.8773999810218811\n"
          ]
        }
      ],
      "source": [
        "test_loss, test_acc = model.evaluate(test_images,  test_labels, verbose=2)\n",
        "\n",
        "print('\\nTest accuracy:', test_acc)"
      ]
    },
    {
      "cell_type": "markdown",
      "metadata": {
        "id": "jwKx0B8sZ0O5"
      },
      "source": [
        "### 1.5.6. Dự đoán\n",
        "\n",
        "Với mô hình đã được huấn luyện, chúng ta có thể sử dụng nó để đưa ra dự đoán về một số hình ảnh. Các đầu ra của mô hình là các giá trị tuyến tính - logits. Thêm một tầng softmax để chuyển đổi nhật ký thành xác suất, dễ diễn giải hơn, như sau:"
      ]
    },
    {
      "cell_type": "code",
      "execution_count": null,
      "metadata": {
        "colab": {
          "base_uri": "https://localhost:8080/"
        },
        "id": "6rnR95M9Z0O5",
        "outputId": "33957686-4345-4fac-8625-6b1dabf8d88f"
      },
      "outputs": [
        {
          "output_type": "stream",
          "name": "stdout",
          "text": [
            "313/313 [==============================] - 0s 1ms/step\n"
          ]
        }
      ],
      "source": [
        "probability_model = tf.keras.Sequential([model, \n",
        "                                         tf.keras.layers.Softmax()])\n",
        "\n",
        "predictions = probability_model.predict(test_images)"
      ]
    },
    {
      "cell_type": "markdown",
      "metadata": {
        "id": "g1wgeFfKZ0O5"
      },
      "source": [
        "Ở đây, mô hình đã dự đoán nhãn cho từng hình ảnh trong bộ thử nghiệm. Hãy cùng xem dự đoán đầu tiên:"
      ]
    },
    {
      "cell_type": "code",
      "execution_count": null,
      "metadata": {
        "colab": {
          "base_uri": "https://localhost:8080/"
        },
        "id": "v73QUP7BZ0O6",
        "outputId": "6bb3bade-bc8d-4534-ce20-895e74f4a86c"
      },
      "outputs": [
        {
          "output_type": "execute_result",
          "data": {
            "text/plain": [
              "array([3.8751796e-06, 5.0554057e-08, 6.2946209e-10, 3.1925165e-09,\n",
              "       3.0011347e-09, 1.6208517e-04, 1.2588330e-06, 2.8113476e-03,\n",
              "       2.8262372e-07, 9.9702114e-01], dtype=float32)"
            ]
          },
          "metadata": {},
          "execution_count": 19
        }
      ],
      "source": [
        "predictions[0]"
      ]
    },
    {
      "cell_type": "markdown",
      "metadata": {
        "id": "XhYye5VHZ0O6"
      },
      "source": [
        "Dự đoán là một dãy 10 số. Chúng đại diện cho \"độ chắc chắn\" của mô hình rằng hình ảnh tương ứng với mỗi trong số 10 sản phẩm quần áo khác nhau. Bạn có thể xem nhãn nào có giá trị cao nhất bằng cách dùng hàm argmax:"
      ]
    },
    {
      "cell_type": "code",
      "execution_count": null,
      "metadata": {
        "colab": {
          "base_uri": "https://localhost:8080/"
        },
        "id": "XKTE1j9VZ0O6",
        "outputId": "cf153900-eeda-4800-ca58-c02af6f3b861"
      },
      "outputs": [
        {
          "output_type": "execute_result",
          "data": {
            "text/plain": [
              "9"
            ]
          },
          "metadata": {},
          "execution_count": 20
        }
      ],
      "source": [
        "import numpy as np\n",
        "\n",
        "np.argmax(predictions[0])"
      ]
    },
    {
      "cell_type": "markdown",
      "metadata": {
        "id": "VH-CBkdhZ0O6"
      },
      "source": [
        "Vì vậy, mô hình dự đoán hình ảnh này là \"ankle boot\" tương ứng là <code>class_names[9]</code>. Kiểm tra nhãn thử nghiệm cho thấy rằng phân loại này là chính xác:"
      ]
    },
    {
      "cell_type": "code",
      "execution_count": null,
      "metadata": {
        "colab": {
          "base_uri": "https://localhost:8080/"
        },
        "id": "JeRmCO31Z0O6",
        "outputId": "61377bca-0f8b-474d-c4bb-138e3714e470"
      },
      "outputs": [
        {
          "output_type": "execute_result",
          "data": {
            "text/plain": [
              "9"
            ]
          },
          "metadata": {},
          "execution_count": 21
        }
      ],
      "source": [
        "test_labels[0]"
      ]
    },
    {
      "cell_type": "markdown",
      "metadata": {
        "id": "7AdIaaRkZ0O7"
      },
      "source": [
        "Hai hàm dưới đây được định nghĩa để hình dung rõ hơn về các dự đoán"
      ]
    },
    {
      "cell_type": "code",
      "execution_count": null,
      "metadata": {
        "id": "f2lbJkglZ0O7"
      },
      "outputs": [],
      "source": [
        "def plot_image(i, predictions_array, true_label, img):\n",
        "  true_label, img = true_label[i], img[i]\n",
        "  plt.grid(False)\n",
        "  plt.xticks([])\n",
        "  plt.yticks([])\n",
        "\n",
        "  plt.imshow(img, cmap=plt.cm.binary)\n",
        "\n",
        "  predicted_label = np.argmax(predictions_array)\n",
        "  if predicted_label == true_label:\n",
        "    color = 'blue'\n",
        "  else:\n",
        "    color = 'red'\n",
        "\n",
        "  plt.xlabel(\"{} {:2.0f}% ({})\".format(class_names[predicted_label],\n",
        "                                100*np.max(predictions_array),\n",
        "                                class_names[true_label]),\n",
        "                                color=color)\n",
        "\n",
        "def plot_value_array(i, predictions_array, true_label):\n",
        "  true_label = true_label[i]\n",
        "  plt.grid(False)\n",
        "  plt.xticks(range(10))\n",
        "  plt.yticks([])\n",
        "  thisplot = plt.bar(range(10), predictions_array, color=\"#777777\")\n",
        "  plt.ylim([0, 1])\n",
        "  predicted_label = np.argmax(predictions_array)\n",
        "\n",
        "  thisplot[predicted_label].set_color('red')\n",
        "  thisplot[true_label].set_color('blue')"
      ]
    },
    {
      "cell_type": "markdown",
      "metadata": {
        "id": "f3YFOkIMZ0O7"
      },
      "source": [
        "Chúng ta vẽ một số hình ảnh với dự đoán của chúng. Lưu ý rằng mô hình có thể sai ngay cả khi rất tự tin."
      ]
    },
    {
      "cell_type": "code",
      "execution_count": null,
      "metadata": {
        "colab": {
          "base_uri": "https://localhost:8080/",
          "height": 729
        },
        "id": "bc-K5maoZ0O7",
        "outputId": "9bcd1897-6653-40a1-af20-e3f6bd804e8e"
      },
      "outputs": [
        {
          "output_type": "display_data",
          "data": {
            "text/plain": [
              "<Figure size 864x720 with 30 Axes>"
            ],
            "image/png": "[encoded data removed]"
          },
          "metadata": {
            "needs_background": "light"
          }
        }
      ],
      "source": [
        "# Plot the first X test images, their predicted labels, and the true labels.\n",
        "# Color correct predictions in blue and incorrect predictions in red.\n",
        "num_rows = 5\n",
        "num_cols = 3\n",
        "num_images = num_rows*num_cols\n",
        "plt.figure(figsize=(2*2*num_cols, 2*num_rows))\n",
        "for i in range(num_images):\n",
        "  plt.subplot(num_rows, 2*num_cols, 2*i+1)\n",
        "  plot_image(i, predictions[i], test_labels, test_images)\n",
        "  plt.subplot(num_rows, 2*num_cols, 2*i+2)\n",
        "  plot_value_array(i, predictions[i], test_labels)\n",
        "plt.tight_layout()\n",
        "plt.show()"
      ]
    },
    {
      "cell_type": "markdown",
      "metadata": {
        "id": "XHJNO8ULZ0O7"
      },
      "source": [
        "## 1.6. Thay đổi mô hình - mạng nơ ron tích chập\n",
        "\n",
        "Trong ví dụ trên, mô hình mạng nơ ron được sử dụng để phân lớp là mạng nơ ron kết nối đầy đủ. Mô hình này dường như chưa thực sự phù hợp với dữ liệu là ảnh. Do đó, trước khi bắt đầu bất kỳ quá trình tuning mô hình nào, ta cần lựa chọn được một kiến trúc mô hình phù hợp. Ở đây, dữ liệu là ảnh, dựa trên kinh nghiệm có thể dự đoán là mô hình mạng nơ ron tích chập sẽ có hiệu quả.\n",
        "\n",
        "Chúng ta cùng xây dựng một mạng nơ ron tích chập trên tập dữ liệu này gồm:\n",
        "- đầu vào là ảnh kích thước 28x28 đã được mở rộng thêm 1 chiều kênh màu 28x28x1.\n",
        "- 1 tầng Convolution 2D với hàm kích hoạt relu.\n",
        "- 1 tầng MaxPooling 2D.\n",
        "- 1 tầng đầu ra gồm 10 units tương ứng với 10 lớp.\n",
        "\n",
        "Do đầu vào của mạng nơ ron tích chập cần thêm 1 chiều, tương ứng là số kênh màu của ảnh. Ta tăng thêm một chiều cho dữ liệu. Mô hình mạng nơ ron tích chập được định nghĩa như sau:"
      ]
    },
    {
      "cell_type": "code",
      "execution_count": null,
      "metadata": {
        "id": "9TUK1rVgZ0O8"
      },
      "outputs": [],
      "source": [
        "cnn_model = tf.keras.Sequential([\n",
        "    tf.keras.layers.Reshape((28, 28, 1), input_shape=(28, 28)),\n",
        "    tf.keras.layers.Conv2D(16, (3, 3), activation='relu'),\n",
        "    tf.keras.layers.MaxPooling2D(pool_size=(2, 2)),\n",
        "    tf.keras.layers.Flatten(),\n",
        "    tf.keras.layers.Dense(10, activation='softmax')\n",
        "])\n",
        "\n",
        "cnn_model.compile(optimizer=\"adam\",\n",
        "              loss=\"sparse_categorical_crossentropy\",\n",
        "              metrics=[\"accuracy\"])"
      ]
    },
    {
      "cell_type": "markdown",
      "metadata": {
        "id": "g5CD8rvsZ0O8"
      },
      "source": [
        "Ở đây, ta sử dụng hàm activation softmax trực tiếp để tránh định nghĩa thêm một mô hình khác để dự đoán.\n",
        "\n",
        "Các tham số của mô hình được tổng hợp như sau:"
      ]
    },
    {
      "cell_type": "code",
      "execution_count": null,
      "metadata": {
        "colab": {
          "base_uri": "https://localhost:8080/"
        },
        "id": "rGimXEiyZ0O8",
        "outputId": "a3b24cbc-1b73-4116-8fbe-7154ca60e781"
      },
      "outputs": [
        {
          "output_type": "stream",
          "name": "stdout",
          "text": [
            "Model: \"sequential_2\"\n",
            "_________________________________________________________________\n",
            " Layer (type)                Output Shape              Param #   \n",
            "=================================================================\n",
            " reshape (Reshape)           (None, 28, 28, 1)         0         \n",
            "                                                                 \n",
            " conv2d (Conv2D)             (None, 26, 26, 16)        160       \n",
            "                                                                 \n",
            " max_pooling2d (MaxPooling2D  (None, 13, 13, 16)       0         \n",
            " )                                                               \n",
            "                                                                 \n",
            " flatten_1 (Flatten)         (None, 2704)              0         \n",
            "                                                                 \n",
            " dense_2 (Dense)             (None, 10)                27050     \n",
            "                                                                 \n",
            "=================================================================\n",
            "Total params: 27,210\n",
            "Trainable params: 27,210\n",
            "Non-trainable params: 0\n",
            "_________________________________________________________________\n"
          ]
        }
      ],
      "source": [
        "cnn_model.summary()"
      ]
    },
    {
      "cell_type": "markdown",
      "metadata": {
        "id": "D5cCPZQ7Z0O8"
      },
      "source": [
        "Quá trình huấn luyện mô hình được thực hiện tương tự. Tuy nhiên, trong thí nghiệm này, tập dữ liệu kiểm thử được truyền trực tiếp vào hàm fit để làm dữ liệu kiểm tra sau mỗi epoch huấn luyện mô hình."
      ]
    },
    {
      "cell_type": "code",
      "execution_count": null,
      "metadata": {
        "colab": {
          "base_uri": "https://localhost:8080/"
        },
        "id": "3K3p_v2UZ0O8",
        "outputId": "5977b1f2-0861-4d52-ffbc-1c1a9fb68839"
      },
      "outputs": [
        {
          "output_type": "stream",
          "name": "stdout",
          "text": [
            "Epoch 1/10\n",
            "1875/1875 [==============================] - 12s 3ms/step - loss: 0.4752 - accuracy: 0.8336 - val_loss: 0.3982 - val_accuracy: 0.8594\n",
            "Epoch 2/10\n",
            "1875/1875 [==============================] - 5s 3ms/step - loss: 0.3413 - accuracy: 0.8814 - val_loss: 0.3433 - val_accuracy: 0.8807\n",
            "Epoch 3/10\n",
            "1875/1875 [==============================] - 5s 3ms/step - loss: 0.3080 - accuracy: 0.8918 - val_loss: 0.3470 - val_accuracy: 0.8766\n",
            "Epoch 4/10\n",
            "1875/1875 [==============================] - 5s 3ms/step - loss: 0.2841 - accuracy: 0.8998 - val_loss: 0.3054 - val_accuracy: 0.8920\n",
            "Epoch 5/10\n",
            "1875/1875 [==============================] - 6s 3ms/step - loss: 0.2663 - accuracy: 0.9057 - val_loss: 0.3024 - val_accuracy: 0.8942\n",
            "Epoch 6/10\n",
            "1875/1875 [==============================] - 6s 3ms/step - loss: 0.2514 - accuracy: 0.9113 - val_loss: 0.2965 - val_accuracy: 0.8933\n",
            "Epoch 7/10\n",
            "1875/1875 [==============================] - 5s 3ms/step - loss: 0.2402 - accuracy: 0.9148 - val_loss: 0.2926 - val_accuracy: 0.8982\n",
            "Epoch 8/10\n",
            "1875/1875 [==============================] - 6s 3ms/step - loss: 0.2290 - accuracy: 0.9187 - val_loss: 0.2812 - val_accuracy: 0.8999\n",
            "Epoch 9/10\n",
            "1875/1875 [==============================] - 6s 3ms/step - loss: 0.2202 - accuracy: 0.9222 - val_loss: 0.2787 - val_accuracy: 0.9013\n",
            "Epoch 10/10\n",
            "1875/1875 [==============================] - 6s 3ms/step - loss: 0.2126 - accuracy: 0.9240 - val_loss: 0.2839 - val_accuracy: 0.8982\n"
          ]
        },
        {
          "output_type": "execute_result",
          "data": {
            "text/plain": [
              "<keras.callbacks.History at 0x7fec940b4350>"
            ]
          },
          "metadata": {},
          "execution_count": 26
        }
      ],
      "source": [
        "cnn_model.fit(train_images, train_labels, epochs=10, validation_data = (test_images, test_labels))"
      ]
    },
    {
      "cell_type": "markdown",
      "metadata": {
        "id": "2NiL3b8gZ0O9"
      },
      "source": [
        "Kết quả cho thấy rằng, chỉ cần thay đổi kiến trúc mô hình, kết quả đạt được 2 thay đổi sau:\n",
        "- Số lượng tham số giảm đi đáng kể: từ 101,770 xuống 27,210.\n",
        "- Kết quả kiểm thử tăng lên rõ rệt.\n",
        "\n",
        "Tuy nhiên, liệu mô hình như vậy đã đủ tốt? Làm sao để tiếp tục tăng kết quả của mô hình? Một câu trả lời là chúng ta có thể tinh chỉnh siêu tham số (hyperparameter) của mô hình phù hợp với dữ liệu để cho kết quả tốt hơn."
      ]
    },
    {
      "cell_type": "markdown",
      "metadata": {
        "id": "nLKsLgKLZ0O9"
      },
      "source": [
        "## 1.7. Tinh chỉnh siêu tham số với Keras tuner"
      ]
    },
    {
      "cell_type": "markdown",
      "metadata": {
        "id": "GHPClVcoZ0O9"
      },
      "source": [
        "Keras Tuner là một thư viện giúp chúng ta chọn bộ siêu tham số tối ưu cho mô hình viết bằng TensorFlow của mình.\n",
        "\n",
        "Siêu tham số là các biến chi phối quá trình huấn luyện và cấu trúc của mô hình học máy. Các biến này không đổi trong quá trình huấn luyện và tác động trực tiếp đến hiệu suất của mô hình. Siêu tham số có hai loại:\n",
        "\n",
        "- Các siêu tham số của mô hình: ảnh hưởng đến việc lựa chọn mô hình chẳng hạn như số lượng và kích thước của các tầng ẩn\n",
        "- Các siêu tham số của thuật toán: ảnh hưởng đến tốc độ và chất lượng của thuật toán huấn luyện, chẳng hạn như tốc độ học  của Stochastic Gradient Descent (SGD) và số lượng hàng xóm gần nhất đối với bộ phân loại k Nearest Neighbors (KNN)."
      ]
    },
    {
      "cell_type": "markdown",
      "metadata": {
        "id": "4ReBp-leZ0O9"
      },
      "source": [
        "### 1.7.1. Cài đặt\n",
        "\n",
        "Cài đặt và import Keras Tuner."
      ]
    },
    {
      "cell_type": "code",
      "execution_count": null,
      "metadata": {
        "colab": {
          "base_uri": "https://localhost:8080/"
        },
        "id": "Oz5UVLB5Z0O9",
        "outputId": "4572963f-ad2d-4484-c159-fe49fa76c76a"
      },
      "outputs": [
        {
          "output_type": "stream",
          "name": "stdout",
          "text": [
            "\u001b[K     |████████████████████████████████| 135 kB 6.5 MB/s \n",
            "\u001b[K     |████████████████████████████████| 1.6 MB 52.5 MB/s \n",
            "\u001b[?25h"
          ]
        },
        {
          "output_type": "stream",
          "name": "stderr",
          "text": [
            "/usr/local/lib/python3.7/dist-packages/ipykernel_launcher.py:2: DeprecationWarning: `import kerastuner` is deprecated, please use `import keras_tuner`.\n",
            "  \n"
          ]
        }
      ],
      "source": [
        "!pip install -q -U keras-tuner\n",
        "import kerastuner as kt"
      ]
    },
    {
      "cell_type": "markdown",
      "metadata": {
        "id": "mCsVC691Z0O9"
      },
      "source": [
        "### 1.7.2. Định nghĩa siêu mô hình\n",
        "\n",
        "Khi chúng ta xây dựng một mô hình cho để tuning, chúng ta cần xác định không gian tìm kiếm hyperparameter ngoài việc định nghĩa  kiến trúc mô hình. Mô hình chúng ta thiết lập để tinh chỉnh siêu tham số được gọi là siêu mô hình (hypermodel).\n",
        "\n",
        "Trong hướng dẫn này, chúng ta sử dụng hàm <code>model_builder</code> để xác định mô hình phân loại hình ảnh. Hàm này khởi tạo và trả về một mô hình đã biên dịch và sử dụng các siêu tham số mà bạn xác định.\n",
        "\n",
        "Một định nghĩa đầu tiên như sau:"
      ]
    },
    {
      "cell_type": "code",
      "execution_count": null,
      "metadata": {
        "id": "LTBmeVk-Z0O-"
      },
      "outputs": [],
      "source": [
        "def build_model(hp):  # random search passes this hyperparameter() object \n",
        "    _model = tf.keras.models.Sequential()\n",
        "    \n",
        "    _model.add(tf.keras.layers.Reshape((28, 28, 1), input_shape=(28, 28))),\n",
        "    _model.add(tf.keras.layers.Conv2D(16, (3, 3), activation='relu'))\n",
        "    _model.add(tf.keras.layers.MaxPooling2D(pool_size=(2, 2)))\n",
        "\n",
        "    _model.add(tf.keras.layers.Flatten())  # this converts our 3D feature maps to 1D feature vectors\n",
        "    _model.add(tf.keras.layers.Dense(10, activation='softmax'))\n",
        "\n",
        "    _model.compile(optimizer=\"adam\",\n",
        "                  loss=\"sparse_categorical_crossentropy\",\n",
        "                  metrics=[\"accuracy\"])\n",
        "    \n",
        "    return _model"
      ]
    },
    {
      "cell_type": "markdown",
      "metadata": {
        "id": "ROXetfBVZ0O-"
      },
      "source": [
        "Lưu ý rằng chúng ta không huấn luyện mô hình ở hàm này mà trả về mô hình đã biên dịch. Trước tiên, hãy tiếp tục xây dựng phần còn lại của chương trình, sau đó chúng ta sẽ làm cho mô hình **dynamic** hơn.\n",
        "\n",
        "Đầu tiên chúng ta sẽ xác định bộ tinh chỉnh siêu tham số:"
      ]
    },
    {
      "cell_type": "code",
      "execution_count": null,
      "metadata": {
        "id": "num__miQZ0O-"
      },
      "outputs": [],
      "source": [
        "tuner = kt.tuners.RandomSearch(\n",
        "    build_model,\n",
        "    objective='val_accuracy',\n",
        "    max_trials=1,  # how many model variations to test?\n",
        "    executions_per_trial=1,  # how many trials per variation? (same model could perform differently)\n",
        "    directory='tuning_logs')"
      ]
    },
    {
      "cell_type": "markdown",
      "metadata": {
        "id": "mIcYo6C_Z0O-"
      },
      "source": [
        "<code>objective</code> ở đây sử dụng độ chính xác trên tập validation - val_accuracy, nhưng ta có thể chọn val_loss thay thế.\n",
        "\n",
        "<code>max_trials</code> cho phép ta giới hạn số lượng lần thử sẽ được chạy. Nếu ta đặt 10 ở đây, ta sẽ nhận được 10 thử nghiệm khác nhau (với điều kiện là ta có đủ 10 phiên bản khác nhau để thử).\n",
        "\n",
        "<code>execute_per_trial</code> có thể là 1, nhưng ta cũng có thể tăng lên 3, 5 hoặc thậm chí 10.\n",
        "\n",
        "Về cơ bản, nếu ta chỉ tìm kiếm một mô hình hoạt động được, thì ta chỉ nên thử 1 lần cho mỗi biến thể. Nếu ta cần kiểm tra độ ổn đinh, thì rất có thể ta nên chạy hơn 3 lần thử cho mỗi mô hình, bởi vì mỗi khi một mô hình chạy kết quả sẽ có sự thay đổi nhất định.\n",
        "\n",
        "Để xem thống kê của bộ tinh chỉnh siêu tham số ta thực hiện:"
      ]
    },
    {
      "cell_type": "code",
      "execution_count": null,
      "metadata": {
        "colab": {
          "base_uri": "https://localhost:8080/"
        },
        "id": "SK3igrXbZ0O-",
        "outputId": "345b7094-c6e5-44f3-9843-6f307e10934a"
      },
      "outputs": [
        {
          "output_type": "stream",
          "name": "stdout",
          "text": [
            "Search space summary\n",
            "Default search space size: 0\n"
          ]
        }
      ],
      "source": [
        "tuner.search_space_summary()"
      ]
    },
    {
      "cell_type": "markdown",
      "metadata": {
        "id": "malpFxB5Z0O_"
      },
      "source": [
        "Tất nhiên, chúng ta không có bất kỳ không gian tìm kiếm nào, bởi vì chúng ta không xác định biến thể nào (việc này sẽ được thử ở phần tiếp theo).\n",
        "\n",
        "Bây giờ, chúng ta sẽ thực hiện tìm kiếm:"
      ]
    },
    {
      "cell_type": "code",
      "execution_count": null,
      "metadata": {
        "colab": {
          "base_uri": "https://localhost:8080/"
        },
        "id": "pGzY0WYOZ0O_",
        "outputId": "745b001f-b9fe-4f25-c307-1634fc8d6929"
      },
      "outputs": [
        {
          "output_type": "stream",
          "name": "stdout",
          "text": [
            "Trial 1 Complete [00h 00m 06s]\n",
            "val_accuracy: 0.8533999919891357\n",
            "\n",
            "Best val_accuracy So Far: 0.8533999919891357\n",
            "Total elapsed time: 00h 00m 06s\n"
          ]
        }
      ],
      "source": [
        "tuner.search(x=train_images,\n",
        "             y=train_labels,\n",
        "             verbose=2, # just slapping this here bc jupyter notebook. The console out was getting messy.\n",
        "             epochs=1,\n",
        "             batch_size=64,\n",
        "             #callbacks=[tensorboard],  # if you have callbacks like tensorboard, they go here.\n",
        "             validation_data=(test_images, test_labels))"
      ]
    },
    {
      "cell_type": "markdown",
      "metadata": {
        "id": "1usqzkO2Z0O_"
      },
      "source": [
        "Chúng tôi đã có thể thấy ~ quá trình tinh chỉnh đã thực hiện như thế nào, nhưng chúng ta cũng có thể in ra một bản tóm tắt như sau:"
      ]
    },
    {
      "cell_type": "code",
      "execution_count": null,
      "metadata": {
        "colab": {
          "base_uri": "https://localhost:8080/"
        },
        "id": "lmm7bSEOZ0O_",
        "outputId": "21ec56ad-97ce-4945-fe88-f17c5ed163a1"
      },
      "outputs": [
        {
          "output_type": "stream",
          "name": "stdout",
          "text": [
            "Results summary\n",
            "Results in tuning_logs/untitled_project\n",
            "Showing 10 best trials\n",
            "<keras_tuner.engine.objective.Objective object at 0x7fec94627dd0>\n",
            "Trial summary\n",
            "Hyperparameters:\n",
            "default configuration\n",
            "Score: 0.8533999919891357\n"
          ]
        }
      ],
      "source": [
        "tuner.results_summary()"
      ]
    },
    {
      "cell_type": "markdown",
      "metadata": {
        "id": "VmnsRowBZ0O_"
      },
      "source": [
        "Tất nhiên, điều này là khá vô nghĩa. Chúng ta sẽ làm cho mô hình này **dynamic hơn**. Chúng ta sẽ bắt đầu bằng cách thử nghiệm trên tầng tích chập:\n",
        "\n",
        "```py\n",
        "_model.add(Conv2D(16, (3, 3), input_shape=x_train.shape[1:]))\n",
        "```\n",
        "\n",
        "Số lượng filters đang được cố định là 16, chúng ta sẽ cùng thử thay đổi để tìm ra một số lượng filter tối ưu hơn. Giả sử, chúng ta muốn thử nghiệm số lượng filter là 16, 32 và 64; chúng ta sẽ có một cài đặt như sau:\n",
        "\n",
        "```py\n",
        "hp.Choice('filter', values = [16, 32, 64]) \n",
        "```\n",
        "\n",
        "Khi đó câu lệnh trở thành:\n",
        "```py\n",
        "_model.add(Conv2D(hp.Choice('filter', values = [16, 32, 64]),\n",
        "                  (3, 3), input_shape=x_train.shape[1:]))\n",
        "```\n",
        "\n",
        "Hàm <code>build_model</code> trở thành:"
      ]
    },
    {
      "cell_type": "code",
      "execution_count": null,
      "metadata": {
        "id": "S6k4G3YeZ0PA"
      },
      "outputs": [],
      "source": [
        "def build_model2(hp):  # random search passes this hyperparameter() object \n",
        "    _model = tf.keras.models.Sequential()\n",
        "    \n",
        "    _model.add(tf.keras.layers.Reshape((28, 28, 1), input_shape=(28, 28))),\n",
        "    _model.add(tf.keras.layers.Conv2D(hp.Choice('filter', values = [16, 32, 64]),\n",
        "                                      (3, 3), activation='relu'))\n",
        "    _model.add(tf.keras.layers.MaxPooling2D(pool_size=(2, 2)))\n",
        "\n",
        "    _model.add(tf.keras.layers.Flatten())  # this converts our 3D feature maps to 1D feature vectors\n",
        "    _model.add(tf.keras.layers.Dense(10, activation='softmax'))\n",
        "\n",
        "    _model.compile(optimizer=\"adam\",\n",
        "                  loss=\"sparse_categorical_crossentropy\",\n",
        "                  metrics=[\"accuracy\"])\n",
        "    return _model"
      ]
    },
    {
      "cell_type": "markdown",
      "metadata": {
        "id": "S-nEW8_6Z0PA"
      },
      "source": [
        "Thực hiện lại quá trình tinh chỉnh tham số ta được:"
      ]
    },
    {
      "cell_type": "code",
      "execution_count": null,
      "metadata": {
        "colab": {
          "base_uri": "https://localhost:8080/"
        },
        "id": "CxpZWBnvZ0PA",
        "outputId": "ecd2257b-85f7-4e28-b22c-9a6f11790c33"
      },
      "outputs": [
        {
          "output_type": "stream",
          "name": "stdout",
          "text": [
            "Search space summary\n",
            "Default search space size: 1\n",
            "filter (Choice)\n",
            "{'default': 16, 'conditions': [], 'values': [16, 32, 64], 'ordered': True}\n"
          ]
        }
      ],
      "source": [
        "tuner2 = kt.tuners.RandomSearch(\n",
        "    build_model2,\n",
        "    objective='val_accuracy',\n",
        "    max_trials=10,  # how many model variations to test?\n",
        "    executions_per_trial=1,  # how many trials per variation? (same model could perform differently)\n",
        "    directory='tuning_logs_2')\n",
        "tuner2.search_space_summary()"
      ]
    },
    {
      "cell_type": "code",
      "execution_count": null,
      "metadata": {
        "colab": {
          "base_uri": "https://localhost:8080/"
        },
        "id": "NINCP9_NZ0PA",
        "outputId": "af7aa373-4aa4-46f0-a611-354e42815544"
      },
      "outputs": [
        {
          "output_type": "stream",
          "name": "stdout",
          "text": [
            "Trial 3 Complete [00h 00m 06s]\n",
            "val_accuracy: 0.8521000146865845\n",
            "\n",
            "Best val_accuracy So Far: 0.8705999851226807\n",
            "Total elapsed time: 00h 00m 17s\n"
          ]
        }
      ],
      "source": [
        "tuner2.search(x=train_images,\n",
        "             y=train_labels,\n",
        "             verbose=2, # just slapping this here bc jupyter notebook. The console out was getting messy.\n",
        "             epochs=1,\n",
        "             batch_size=64,\n",
        "             #callbacks=[tensorboard],  # if you have callbacks like tensorboard, they go here.\n",
        "             validation_data=(test_images, test_labels))"
      ]
    },
    {
      "cell_type": "code",
      "execution_count": null,
      "metadata": {
        "colab": {
          "base_uri": "https://localhost:8080/"
        },
        "id": "gO8m5L_-Z0PA",
        "outputId": "48141091-495a-46f4-d57a-b59e1658b965"
      },
      "outputs": [
        {
          "output_type": "stream",
          "name": "stdout",
          "text": [
            "Results summary\n",
            "Results in tuning_logs_2/untitled_project\n",
            "Showing 10 best trials\n",
            "<keras_tuner.engine.objective.Objective object at 0x7fed101f5f10>\n",
            "Trial summary\n",
            "Hyperparameters:\n",
            "filter: 64\n",
            "Score: 0.8705999851226807\n",
            "Trial summary\n",
            "Hyperparameters:\n",
            "filter: 32\n",
            "Score: 0.8687999844551086\n",
            "Trial summary\n",
            "Hyperparameters:\n",
            "filter: 16\n",
            "Score: 0.8521000146865845\n"
          ]
        }
      ],
      "source": [
        "tuner2.results_summary()"
      ]
    },
    {
      "cell_type": "markdown",
      "metadata": {
        "id": "6fvs-mBkZ0PB"
      },
      "source": [
        "Để lấy ra bộ giá trị tối ưu:"
      ]
    },
    {
      "cell_type": "code",
      "execution_count": null,
      "metadata": {
        "colab": {
          "base_uri": "https://localhost:8080/"
        },
        "id": "l9880uRcZ0PB",
        "outputId": "cf056863-5c3a-4029-8211-45c1d378a141"
      },
      "outputs": [
        {
          "output_type": "execute_result",
          "data": {
            "text/plain": [
              "{'filter': 64}"
            ]
          },
          "metadata": {},
          "execution_count": 37
        }
      ],
      "source": [
        "best_hps = tuner2.get_best_hyperparameters()[0]\n",
        "best_hps.values"
      ]
    },
    {
      "cell_type": "markdown",
      "metadata": {
        "id": "KwPc9roAZ0PB"
      },
      "source": [
        "Để lấy ra thông tin của mô hình tối ưu:"
      ]
    },
    {
      "cell_type": "code",
      "execution_count": null,
      "metadata": {
        "colab": {
          "base_uri": "https://localhost:8080/"
        },
        "id": "GR1ibv6IZ0PB",
        "outputId": "a83e38f3-582e-44c1-f9f1-f4f4705da12a"
      },
      "outputs": [
        {
          "output_type": "stream",
          "name": "stdout",
          "text": [
            "Model: \"sequential\"\n",
            "_________________________________________________________________\n",
            " Layer (type)                Output Shape              Param #   \n",
            "=================================================================\n",
            " reshape (Reshape)           (None, 28, 28, 1)         0         \n",
            "                                                                 \n",
            " conv2d (Conv2D)             (None, 26, 26, 64)        640       \n",
            "                                                                 \n",
            " max_pooling2d (MaxPooling2D  (None, 13, 13, 64)       0         \n",
            " )                                                               \n",
            "                                                                 \n",
            " flatten (Flatten)           (None, 10816)             0         \n",
            "                                                                 \n",
            " dense (Dense)               (None, 10)                108170    \n",
            "                                                                 \n",
            "=================================================================\n",
            "Total params: 108,810\n",
            "Trainable params: 108,810\n",
            "Non-trainable params: 0\n",
            "_________________________________________________________________\n"
          ]
        },
        {
          "output_type": "stream",
          "name": "stderr",
          "text": [
            "WARNING:tensorflow:Detecting that an object or model or tf.train.Checkpoint is being deleted with unrestored values. See the following logs for the specific values in question. To silence these warnings, use `status.expect_partial()`. See https://www.tensorflow.org/api_docs/python/tf/train/Checkpoint#restorefor details about the status object returned by the restore function.\n",
            "WARNING:tensorflow:Value in checkpoint could not be found in the restored object: (root).optimizer.iter\n",
            "WARNING:tensorflow:Value in checkpoint could not be found in the restored object: (root).optimizer.beta_1\n",
            "WARNING:tensorflow:Value in checkpoint could not be found in the restored object: (root).optimizer.beta_2\n",
            "WARNING:tensorflow:Value in checkpoint could not be found in the restored object: (root).optimizer.decay\n",
            "WARNING:tensorflow:Value in checkpoint could not be found in the restored object: (root).optimizer.learning_rate\n"
          ]
        }
      ],
      "source": [
        "tuner2.get_best_models()[0].summary()"
      ]
    },
    {
      "cell_type": "markdown",
      "metadata": {
        "id": "LffbsBKpZ0PB"
      },
      "source": [
        "Để dựng lại mô hình tối ưu và huấn luyện lại mô hình trên dữ liệu:"
      ]
    },
    {
      "cell_type": "code",
      "execution_count": null,
      "metadata": {
        "colab": {
          "base_uri": "https://localhost:8080/"
        },
        "id": "zemOdorwZ0PC",
        "outputId": "cb9dbe4e-2775-4051-e49e-0a2fc26c59a1"
      },
      "outputs": [
        {
          "output_type": "stream",
          "name": "stdout",
          "text": [
            "Epoch 1/10\n",
            "1875/1875 [==============================] - 6s 3ms/step - loss: 0.4129 - accuracy: 0.8553 - val_loss: 0.3255 - val_accuracy: 0.8835\n",
            "Epoch 2/10\n",
            "1875/1875 [==============================] - 6s 3ms/step - loss: 0.2944 - accuracy: 0.8953 - val_loss: 0.3020 - val_accuracy: 0.8941\n",
            "Epoch 3/10\n",
            "1875/1875 [==============================] - 6s 3ms/step - loss: 0.2613 - accuracy: 0.9065 - val_loss: 0.2844 - val_accuracy: 0.8990\n",
            "Epoch 4/10\n",
            "1875/1875 [==============================] - 6s 3ms/step - loss: 0.2359 - accuracy: 0.9158 - val_loss: 0.2731 - val_accuracy: 0.9044\n",
            "Epoch 5/10\n",
            "1875/1875 [==============================] - 6s 3ms/step - loss: 0.2162 - accuracy: 0.9220 - val_loss: 0.2716 - val_accuracy: 0.9032\n",
            "Epoch 6/10\n",
            "1875/1875 [==============================] - 6s 3ms/step - loss: 0.1977 - accuracy: 0.9289 - val_loss: 0.2656 - val_accuracy: 0.9067\n",
            "Epoch 7/10\n",
            "1875/1875 [==============================] - 6s 3ms/step - loss: 0.1837 - accuracy: 0.9330 - val_loss: 0.2637 - val_accuracy: 0.9061\n",
            "Epoch 8/10\n",
            "1875/1875 [==============================] - 9s 5ms/step - loss: 0.1712 - accuracy: 0.9379 - val_loss: 0.2653 - val_accuracy: 0.9103\n",
            "Epoch 9/10\n",
            "1875/1875 [==============================] - 6s 3ms/step - loss: 0.1603 - accuracy: 0.9421 - val_loss: 0.2728 - val_accuracy: 0.9086\n",
            "Epoch 10/10\n",
            "1875/1875 [==============================] - 6s 3ms/step - loss: 0.1499 - accuracy: 0.9456 - val_loss: 0.2918 - val_accuracy: 0.9005\n"
          ]
        },
        {
          "output_type": "execute_result",
          "data": {
            "text/plain": [
              "<keras.callbacks.History at 0x7fed0fcdd7d0>"
            ]
          },
          "metadata": {},
          "execution_count": 39
        }
      ],
      "source": [
        "tuned_model = tuner2.hypermodel.build(best_hps)\n",
        "tuned_model.fit(train_images, train_labels, epochs=10, validation_data = (test_images, test_labels))"
      ]
    },
    {
      "cell_type": "markdown",
      "metadata": {
        "id": "SKZv0THMZ0PC"
      },
      "source": [
        "### 1.7.3. Một số ví dụ\n",
        "\n",
        "Dưới đây là ví dụ của các tham số có thể tinh chỉnh:\n",
        "\n",
        "- Lựa chọn hyp trong [16, 32, 64]:\n",
        "```py\n",
        "hp.Choice('hyp', values = [16, 32, 64])\n",
        "```\n",
        "\n",
        "- Lựa chọn hyp trong trong khoảng từ 16 đến 128, bước nhảy 16. Giá trị có thể có là [16, 32, ..., 128]:\n",
        "```py\n",
        "hp.Int('hyp',\n",
        "        min_value=16,\n",
        "        max_value=128,\n",
        "        step=16)\n",
        "```\n",
        "\n",
        "- Lựa chọn số tầng convolution từ 1 đến 4:\n",
        "```py\n",
        "for i in range(hp.Int('n_layers', 1, 4)):\n",
        "    _model.add(Conv2D(16, (3, 3), input_shape=x_train.shape[1:]))\n",
        "```\n",
        "\n",
        "- Lựa chọn thuật toán huấn luyện từ ['adam', 'sgd']:\n",
        "```py\n",
        "optimizer = hp.Choice('optimizer', ['adam', 'sgd'])\n",
        "```\n",
        "\n",
        "- Lựa chọn tốc độ học trong [0.01, 0.001, 0.0001, 0.00001]:\n",
        "```py\n",
        "hp.Choice('lr', values = [0.01, 0.001, 0.0001, 0.00001])\n",
        "```"
      ]
    },
    {
      "cell_type": "code",
      "execution_count": null,
      "metadata": {
        "id": "2J0fWzTXZ0PC"
      },
      "outputs": [],
      "source": [
        "# # Your task is define a hypermodel and search for optimal hyperparameters here\n",
        "# def build_model3(hp):  # random search passes this hyperparameter() object \n",
        "#     _model = tf.keras.models.Sequential()\n",
        "    \n",
        "#     _model.add(tf.keras.layers.Reshape((28, 28, 1), input_shape=(28, 28))),\n",
        "#     _model.add(tf.keras.layers.Conv2D(hp.Choice('filter', values = [16, 32, 64]),\n",
        "#                                       (3, 3), activation='relu'))\n",
        "#     _model.add(tf.keras.layers.MaxPooling2D(pool_size=(2, 2)))\n",
        "\n",
        "#     _model.add(tf.keras.layers.Flatten())  # this converts our 3D feature maps to 1D feature vectors\n",
        "#     _model.add(tf.keras.layers.Dense(10, activation='softmax'))\n",
        "\n",
        "#     _model.compile(optimizer=\"adam\",\n",
        "#                   loss=\"sparse_categorical_crossentropy\",\n",
        "#                   metrics=[\"accuracy\"])\n",
        "#     return _model\n",
        "\n",
        "# tuner3 = kt.tuners.RandomSearch(\n",
        "#     build_model3,\n",
        "#     objective='val_accuracy',\n",
        "#     max_trials=10,  # how many model variations to test?\n",
        "#     executions_per_trial=1,  # how many trials per variation? (same model could perform differently)\n",
        "#     directory='tuning_logs_3')\n",
        "# tuner3.search_space_summary()\n",
        "\n",
        "# tuner3.search(x=train_images,\n",
        "#              y=train_labels,\n",
        "#              verbose=2, # just slapping this here bc jupyter notebook. The console out was getting messy.\n",
        "#              epochs=1,\n",
        "#              batch_size=64,\n",
        "#              #callbacks=[tensorboard],  # if you have callbacks like tensorboard, they go here.\n",
        "#              validation_data=(test_images, test_labels))"
      ]
    },
    {
      "cell_type": "markdown",
      "metadata": {
        "id": "LFn0kjjIZ0PC"
      },
      "source": [
        "# 2. Một số kỹ thuật nâng cao hiệu suất mô hình"
      ]
    },
    {
      "cell_type": "markdown",
      "metadata": {
        "id": "1xPhmzJ3Z0PC"
      },
      "source": [
        "Trong phần này, ta sử dụng lại mô hình mạng nơ ron kết nối đầy đủ để thử nghiệm các kỹ thuật nâng cao hiệu suất mô hình.\n",
        "\n",
        "Mô hình cơ sở được định nghĩa như sau:"
      ]
    },
    {
      "cell_type": "code",
      "execution_count": null,
      "metadata": {
        "colab": {
          "base_uri": "https://localhost:8080/"
        },
        "id": "_3ucNTpxZ0PD",
        "outputId": "e3d065c3-4158-4807-b935-302242a82f8f"
      },
      "outputs": [
        {
          "output_type": "stream",
          "name": "stdout",
          "text": [
            "Epoch 1/10\n",
            "1875/1875 [==============================] - 7s 4ms/step - loss: 0.4931 - accuracy: 0.8262 - val_loss: 0.4158 - val_accuracy: 0.8527\n",
            "Epoch 2/10\n",
            "1875/1875 [==============================] - 7s 4ms/step - loss: 0.3726 - accuracy: 0.8656 - val_loss: 0.4055 - val_accuracy: 0.8512\n",
            "Epoch 3/10\n",
            "1875/1875 [==============================] - 5s 3ms/step - loss: 0.3370 - accuracy: 0.8759 - val_loss: 0.3610 - val_accuracy: 0.8691\n",
            "Epoch 4/10\n",
            "1875/1875 [==============================] - 6s 3ms/step - loss: 0.3120 - accuracy: 0.8849 - val_loss: 0.3647 - val_accuracy: 0.8715\n",
            "Epoch 5/10\n",
            "1875/1875 [==============================] - 5s 3ms/step - loss: 0.2937 - accuracy: 0.8907 - val_loss: 0.3738 - val_accuracy: 0.8665\n",
            "Epoch 6/10\n",
            "1875/1875 [==============================] - 5s 3ms/step - loss: 0.2804 - accuracy: 0.8960 - val_loss: 0.3486 - val_accuracy: 0.8752\n",
            "Epoch 7/10\n",
            "1875/1875 [==============================] - 5s 3ms/step - loss: 0.2675 - accuracy: 0.9004 - val_loss: 0.3415 - val_accuracy: 0.8774\n",
            "Epoch 8/10\n",
            "1875/1875 [==============================] - 5s 3ms/step - loss: 0.2572 - accuracy: 0.9038 - val_loss: 0.3506 - val_accuracy: 0.8731\n",
            "Epoch 9/10\n",
            "1875/1875 [==============================] - 5s 3ms/step - loss: 0.2475 - accuracy: 0.9089 - val_loss: 0.3410 - val_accuracy: 0.8779\n",
            "Epoch 10/10\n",
            "1875/1875 [==============================] - 5s 3ms/step - loss: 0.2394 - accuracy: 0.9102 - val_loss: 0.3472 - val_accuracy: 0.8827\n"
          ]
        },
        {
          "output_type": "execute_result",
          "data": {
            "text/plain": [
              "<keras.callbacks.History at 0x7fed0fdd9510>"
            ]
          },
          "metadata": {},
          "execution_count": 42
        }
      ],
      "source": [
        "mlp_model_0 = tf.keras.Sequential([\n",
        "    tf.keras.layers.Flatten(input_shape=(28, 28)),\n",
        "    tf.keras.layers.Dense(128, activation='relu'),\n",
        "    tf.keras.layers.Dense(10, activation='softmax')\n",
        "])\n",
        "mlp_model_0.compile(optimizer='adam',\n",
        "              loss=\"sparse_categorical_crossentropy\",\n",
        "              metrics=['accuracy'])\n",
        "mlp_model_0.fit(train_images, train_labels, epochs=10, validation_data = (test_images, test_labels))"
      ]
    },
    {
      "cell_type": "markdown",
      "metadata": {
        "id": "nJmKK3jXZ0PD"
      },
      "source": [
        "## 2.1. Dropout\n",
        "\n",
        "Tầng Dropout ngẫu nhiên chuyển các units đầu vào thành 0 với tần suất <code>rate</code> ở mỗi bước trong quá trình huấn luyện, điều này giúp giảm overfitting. Các đầu vào không được đặt thành 0 được scale lại theo tỷ lệ $1 / (1 - rate)$ sao cho tổng trên tất cả các đầu vào không thay đổi."
      ]
    },
    {
      "cell_type": "code",
      "execution_count": null,
      "metadata": {
        "colab": {
          "base_uri": "https://localhost:8080/"
        },
        "id": "V1Uj7QQOZ0PD",
        "outputId": "7ee3d249-c575-4540-e26c-e81a9f287612"
      },
      "outputs": [
        {
          "output_type": "stream",
          "name": "stdout",
          "text": [
            "[[0. 1.]\n",
            " [2. 3.]\n",
            " [4. 5.]\n",
            " [6. 7.]\n",
            " [8. 9.]]\n",
            "tf.Tensor(\n",
            "[[ 0.    1.25]\n",
            " [ 2.5   3.75]\n",
            " [ 5.    6.25]\n",
            " [ 7.5   8.75]\n",
            " [10.    0.  ]], shape=(5, 2), dtype=float32)\n"
          ]
        }
      ],
      "source": [
        "tf.random.set_seed(0)\n",
        "layer = tf.keras.layers.Dropout(.2, input_shape=(2,))\n",
        "data = np.arange(10).reshape(5, 2).astype(np.float32)\n",
        "print(data)\n",
        "outputs = layer(data, training=True)\n",
        "print(outputs)"
      ]
    },
    {
      "cell_type": "markdown",
      "metadata": {
        "id": "i3VTZNa0Z0PD"
      },
      "source": [
        "Áp dụng tầng Dropout vào sau tầng ẩn thứ nhất như sau:"
      ]
    },
    {
      "cell_type": "code",
      "execution_count": null,
      "metadata": {
        "colab": {
          "base_uri": "https://localhost:8080/"
        },
        "id": "VI_KLwfUZ0PD",
        "outputId": "67f49c39-25b9-4e20-a7de-d5ab6fe988b0"
      },
      "outputs": [
        {
          "output_type": "stream",
          "name": "stdout",
          "text": [
            "Epoch 1/10\n",
            "1875/1875 [==============================] - 6s 3ms/step - loss: 0.6204 - accuracy: 0.7824 - val_loss: 0.4685 - val_accuracy: 0.8266\n",
            "Epoch 2/10\n",
            "1875/1875 [==============================] - 5s 3ms/step - loss: 0.4735 - accuracy: 0.8290 - val_loss: 0.4184 - val_accuracy: 0.8491\n",
            "Epoch 3/10\n",
            "1875/1875 [==============================] - 5s 3ms/step - loss: 0.4425 - accuracy: 0.8408 - val_loss: 0.3994 - val_accuracy: 0.8513\n",
            "Epoch 4/10\n",
            "1875/1875 [==============================] - 5s 3ms/step - loss: 0.4166 - accuracy: 0.8480 - val_loss: 0.3875 - val_accuracy: 0.8584\n",
            "Epoch 5/10\n",
            "1875/1875 [==============================] - 5s 3ms/step - loss: 0.4065 - accuracy: 0.8524 - val_loss: 0.3742 - val_accuracy: 0.8628\n",
            "Epoch 6/10\n",
            "1875/1875 [==============================] - 5s 3ms/step - loss: 0.3929 - accuracy: 0.8572 - val_loss: 0.3868 - val_accuracy: 0.8583\n",
            "Epoch 7/10\n",
            "1875/1875 [==============================] - 6s 3ms/step - loss: 0.3868 - accuracy: 0.8601 - val_loss: 0.3709 - val_accuracy: 0.8663\n",
            "Epoch 8/10\n",
            "1875/1875 [==============================] - 5s 3ms/step - loss: 0.3795 - accuracy: 0.8607 - val_loss: 0.3697 - val_accuracy: 0.8669\n",
            "Epoch 9/10\n",
            "1875/1875 [==============================] - 5s 3ms/step - loss: 0.3710 - accuracy: 0.8642 - val_loss: 0.3676 - val_accuracy: 0.8716\n",
            "Epoch 10/10\n",
            "1875/1875 [==============================] - 5s 3ms/step - loss: 0.3663 - accuracy: 0.8653 - val_loss: 0.3593 - val_accuracy: 0.8696\n"
          ]
        },
        {
          "output_type": "execute_result",
          "data": {
            "text/plain": [
              "<keras.callbacks.History at 0x7fed0fd75890>"
            ]
          },
          "metadata": {},
          "execution_count": 44
        }
      ],
      "source": [
        "mlp_model_1 = tf.keras.Sequential([\n",
        "    tf.keras.layers.Flatten(input_shape=(28, 28)),\n",
        "    tf.keras.layers.Dense(128, activation='relu'),\n",
        "    tf.keras.layers.Dropout(0.5),\n",
        "    tf.keras.layers.Dense(10, activation='softmax')\n",
        "])\n",
        "mlp_model_1.compile(optimizer='adam',\n",
        "              loss=\"sparse_categorical_crossentropy\",\n",
        "              metrics=['accuracy'])\n",
        "mlp_model_1.fit(train_images, train_labels, epochs=10, validation_data = (test_images, test_labels))"
      ]
    },
    {
      "cell_type": "markdown",
      "metadata": {
        "id": "KLbmNueeZ0PE"
      },
      "source": [
        "## 2.3. Initializer\n",
        "\n",
        "Hàm khởi tạo tham số mặc định (thông thường của các tầng trong tf.keras.layers) là <code>glorot_uniform</code>. Hàm này lấy mẫu từ một phân bố đều trong khoảng $[-limit, limit]$, trong đó $limit = sqrt (6 / (fan\\_in + fan\\_out))$ trong đó $fan\\_in$ là số units đầu vào và $fan\\_out$ là số units đầu ra.\n",
        "\n",
        "Một hàm khởi tạo khác là <code>glorot_normal</code>. Hàm này lấy mẫu từ phân phối chuẩn kỳ vọng là 0 và độ lệch chuẩn $stddev = sqrt (2 / (fan\\_in + fan\\_out))$ trong đó $fan\\_in$ là số units đầu vào và $fan\\_out$ là số units đầu ra."
      ]
    },
    {
      "cell_type": "code",
      "execution_count": null,
      "metadata": {
        "colab": {
          "base_uri": "https://localhost:8080/"
        },
        "id": "4V7b80BYZ0PE",
        "outputId": "412cbe5d-25ea-42fa-bd77-fdc550a79997"
      },
      "outputs": [
        {
          "output_type": "stream",
          "name": "stdout",
          "text": [
            "tf.Tensor(\n",
            "[[ 1.3657607  -0.6215701 ]\n",
            " [ 0.22307043 -0.38971162]], shape=(2, 2), dtype=float32)\n"
          ]
        }
      ],
      "source": [
        "# Standalone usage:\n",
        "initializer = tf.keras.initializers.GlorotNormal()\n",
        "values = initializer(shape=(2, 2))\n",
        "print(values)\n",
        "\n",
        "# Usage in a Keras layer:\n",
        "initializer = tf.keras.initializers.GlorotNormal()\n",
        "layer = tf.keras.layers.Dense(3, kernel_initializer=initializer)"
      ]
    },
    {
      "cell_type": "markdown",
      "metadata": {
        "id": "eoRs_iyuZ0PE"
      },
      "source": [
        "## 2.4. Regularization\n",
        "\n",
        "Regularizers cho phép ta áp dụng các \"hình phạt\" đối với các tham số mô hình hoặc hoạt động của các tầng trong quá trình tối ưu hóa. Các hình phạt này được cộng vào hàm mất mát mà mạng nơ ron tối ưu hóa. Như vậy, các tham số, hoạt động này sẽ có giá trị nhỏ xung quanh 0.\n",
        "\n",
        "Có 3 đối số tương ứng là:\n",
        "- kernel_regularizer: điều chỉnh tham số mô hình W.\n",
        "- bias_regularizer: điều chỉnh bias mô hình b.\n",
        "- activity_regularizer: điều chỉnh đầu ra của tầng.\n",
        "\n",
        "Ví dụ sau đây thử áp dụng L2-norm với tầng đầu ra của mạng nơ-ron trên:"
      ]
    },
    {
      "cell_type": "code",
      "execution_count": null,
      "metadata": {
        "colab": {
          "base_uri": "https://localhost:8080/"
        },
        "id": "vOl_KELRZ0PE",
        "outputId": "250d64eb-5fa0-41b0-c6af-dece63fa2d58"
      },
      "outputs": [
        {
          "output_type": "stream",
          "name": "stdout",
          "text": [
            "Epoch 1/10\n",
            "1875/1875 [==============================] - 6s 3ms/step - loss: 0.6069 - accuracy: 0.8192 - val_loss: 0.5172 - val_accuracy: 0.8383\n",
            "Epoch 2/10\n",
            "1875/1875 [==============================] - 5s 3ms/step - loss: 0.4566 - accuracy: 0.8574 - val_loss: 0.4788 - val_accuracy: 0.8468\n",
            "Epoch 3/10\n",
            "1875/1875 [==============================] - 5s 3ms/step - loss: 0.4143 - accuracy: 0.8683 - val_loss: 0.4369 - val_accuracy: 0.8591\n",
            "Epoch 4/10\n",
            "1875/1875 [==============================] - 5s 3ms/step - loss: 0.3872 - accuracy: 0.8772 - val_loss: 0.4406 - val_accuracy: 0.8534\n",
            "Epoch 5/10\n",
            "1875/1875 [==============================] - 5s 3ms/step - loss: 0.3713 - accuracy: 0.8807 - val_loss: 0.4168 - val_accuracy: 0.8639\n",
            "Epoch 6/10\n",
            "1875/1875 [==============================] - 5s 3ms/step - loss: 0.3557 - accuracy: 0.8864 - val_loss: 0.3964 - val_accuracy: 0.8721\n",
            "Epoch 7/10\n",
            "1875/1875 [==============================] - 5s 3ms/step - loss: 0.3461 - accuracy: 0.8881 - val_loss: 0.3841 - val_accuracy: 0.8744\n",
            "Epoch 8/10\n",
            "1875/1875 [==============================] - 6s 3ms/step - loss: 0.3355 - accuracy: 0.8929 - val_loss: 0.3900 - val_accuracy: 0.8732\n",
            "Epoch 9/10\n",
            "1875/1875 [==============================] - 5s 3ms/step - loss: 0.3255 - accuracy: 0.8947 - val_loss: 0.3840 - val_accuracy: 0.8769\n",
            "Epoch 10/10\n",
            "1875/1875 [==============================] - 5s 3ms/step - loss: 0.3190 - accuracy: 0.8984 - val_loss: 0.3749 - val_accuracy: 0.8777\n"
          ]
        },
        {
          "output_type": "execute_result",
          "data": {
            "text/plain": [
              "[array([[ 0.02013555, -0.08963859,  0.17583619, ...,  0.05926689,\n",
              "         -0.0157219 ,  0.08431061],\n",
              "        [ 0.1633405 , -0.22540314,  0.25911593, ...,  0.25571913,\n",
              "          0.30668017,  0.41701758],\n",
              "        [-0.19118822, -0.4302873 ,  0.24642274, ...,  0.32355046,\n",
              "          0.18276262,  0.13812336],\n",
              "        ...,\n",
              "        [-0.34736887, -0.11622997,  0.36908677, ...,  0.40026027,\n",
              "          0.3107366 , -0.33834195],\n",
              "        [ 0.1203046 , -0.15880041,  0.25327528, ...,  0.19054979,\n",
              "          0.0123996 , -0.47595066],\n",
              "        [ 0.10499261, -0.3382926 ,  0.26364997, ...,  0.06659501,\n",
              "          0.22503053, -0.33014315]], dtype=float32),\n",
              " array([ 3.5862717e-01,  1.5508808e-01,  1.0106133e+00,  1.1649373e+00,\n",
              "        -2.7572667e-02,  8.3699560e-01,  8.1295335e-01, -7.2679199e-02,\n",
              "        -4.7566333e-01, -4.7971526e-01, -7.1881884e-01,  5.8336571e-02,\n",
              "         9.0585977e-01,  3.8781208e-01, -1.0865530e+00, -3.2213718e-02,\n",
              "         3.6466993e-02,  3.7570402e-01, -4.1707197e-01,  1.0805912e+00,\n",
              "         1.1217000e+00,  2.4263349e-01,  5.5510449e-01,  8.4671623e-01,\n",
              "         5.5959386e-01,  6.0255516e-01, -6.2654041e-02,  3.1422481e-01,\n",
              "         7.2515047e-01, -7.1421707e-01,  1.1412773e+00,  1.9414604e-01,\n",
              "        -8.2387283e-02,  1.0830511e+00,  7.9445779e-01, -8.6741215e-03,\n",
              "         1.2028629e+00, -1.3944261e-02, -4.0981603e-01, -1.3277112e-01,\n",
              "         5.0003233e-04,  1.3036699e+00,  1.6496952e+00,  2.9036816e-02,\n",
              "        -4.5576510e-01,  8.5669649e-01,  2.2920655e-01,  8.2576185e-01,\n",
              "        -1.1345937e-01, -5.4450855e-02,  6.0114413e-01,  6.1138451e-01,\n",
              "        -2.4766351e-01,  2.5993427e-02,  9.0620196e-01, -1.1635326e-02,\n",
              "         1.0962305e+00, -1.3049211e-02,  6.4796329e-01,  4.9970981e-01,\n",
              "         3.9045081e-01, -3.8030869e-01, -8.6260308e-03,  3.5865459e-01,\n",
              "         2.3573874e-01, -2.1396978e-02,  9.7085541e-01, -1.4124443e-02,\n",
              "         4.3904650e-01,  1.0461968e+00,  7.8698814e-01,  1.3039138e+00,\n",
              "         3.3697781e-01,  2.0689328e+00,  9.7451277e-02, -8.5334117e-03,\n",
              "        -9.5887817e-03, -4.1099715e-01, -1.0828145e-02, -1.1760295e-02,\n",
              "         1.8595342e-01, -1.1257724e-02, -2.4965407e-01,  1.6154298e-01,\n",
              "         7.8483510e-01,  5.1056147e-01,  9.3799376e-01, -9.7418889e-02,\n",
              "        -8.7682288e-03,  3.2238132e-01,  1.8628618e-02, -4.1583619e-01,\n",
              "        -5.8575219e-01, -3.7906641e-01,  1.1234404e+00, -9.4393883e-03,\n",
              "        -1.8496310e-02,  1.3842219e-01,  2.4375626e-01, -1.6267369e-02,\n",
              "        -8.7899650e-03,  1.0203475e+00,  1.1711645e+00,  7.1779311e-01,\n",
              "         1.4089833e-01,  4.0524644e-01,  1.3592052e+00,  2.7116618e-01,\n",
              "         4.6164593e-01,  6.0635138e-02, -8.2348902e-03,  9.0370703e-01,\n",
              "         8.7440336e-01, -3.3506606e-02,  6.9755679e-01, -6.1215919e-01,\n",
              "         9.8732227e-01, -3.2432163e-01, -6.7512172e-01, -1.2296335e-02,\n",
              "         1.3168325e+00,  2.4397579e-01, -2.9424798e-01,  6.9309461e-01,\n",
              "        -1.7643140e-01,  8.1233186e-01,  1.1535723e-02,  8.0217081e-01],\n",
              "       dtype=float32),\n",
              " array([[-0.01051191,  0.00561223, -0.02168858, ...,  0.03114771,\n",
              "         -0.0322032 , -0.01565988],\n",
              "        [-0.02974213,  0.12424631, -0.03490015, ...,  0.02581839,\n",
              "          0.09522628, -0.04851403],\n",
              "        [ 0.04151052, -0.08923294,  0.05863294, ..., -0.02035044,\n",
              "         -0.08081139, -0.04086354],\n",
              "        ...,\n",
              "        [ 0.00046157, -0.00365243, -0.00368519, ..., -0.04141118,\n",
              "         -0.0267374 , -0.03328571],\n",
              "        [-0.00149706, -0.00276793, -0.00855906, ..., -0.12413186,\n",
              "         -0.00032318,  0.05650632],\n",
              "        [ 0.07492168, -0.05199949,  0.00178946, ..., -0.03531151,\n",
              "          0.04116763, -0.03003011]], dtype=float32),\n",
              " array([-0.01140396, -0.01060146,  0.01808968,  0.03576685, -0.02125583,\n",
              "         0.00081887,  0.01719806,  0.00995993, -0.00744695, -0.02796848],\n",
              "       dtype=float32)]"
            ]
          },
          "metadata": {},
          "execution_count": 46
        }
      ],
      "source": [
        "mlp_model_2 = tf.keras.Sequential([\n",
        "    tf.keras.layers.Flatten(input_shape=(28, 28)),\n",
        "    tf.keras.layers.Dense(128, activation='relu'),\n",
        "    tf.keras.layers.Dense(10, activation='softmax', kernel_regularizer='l2', bias_regularizer='l2')\n",
        "])\n",
        "mlp_model_2.compile(optimizer='adam',\n",
        "              loss=\"sparse_categorical_crossentropy\",\n",
        "              metrics=['accuracy'])\n",
        "mlp_model_2.fit(train_images, train_labels, epochs=10, validation_data = (test_images, test_labels))\n",
        "\n",
        "mlp_model_2.get_weights()"
      ]
    },
    {
      "cell_type": "markdown",
      "metadata": {
        "id": "dk5xap4IZ0PF"
      },
      "source": [
        "## 2.5. Early Stopping\n",
        "\n",
        "Dừng huấn luyện mô hình khi một chỉ số được giám sát ngừng cải thiện.\n",
        "\n",
        "Giả sử mục tiêu của việc huấn luyện là tối thiểu hoá hàm mất mát. Khi đó, chỉ số được giám sát sẽ là 'loss' và chế độ sẽ là 'min'. Vòng lặp huấn luyện <code>model.fit()</code> sẽ kiểm tra vào cuối mỗi epoch xem hàm mất mát còn giảm nữa hay không, xem xét <code>min_delta</code> và <code>patience</code> nếu có. Khi nó không còn giảm nữa, <code>model.stop_training</code> được đánh dấu là <code>True</code> và quá trình huấn luyện kết thúc."
      ]
    },
    {
      "cell_type": "code",
      "execution_count": null,
      "metadata": {
        "colab": {
          "base_uri": "https://localhost:8080/"
        },
        "id": "01hb7-5mZ0PF",
        "outputId": "cd593471-9c23-482b-cd8d-0b284dfc5599"
      },
      "outputs": [
        {
          "output_type": "stream",
          "name": "stdout",
          "text": [
            "Epoch 1/30\n",
            "1875/1875 [==============================] - 6s 3ms/step - loss: 1.2008 - accuracy: 0.7402 - val_loss: 0.9328 - val_accuracy: 0.7767\n",
            "Epoch 2/30\n",
            "1875/1875 [==============================] - 5s 3ms/step - loss: 0.9967 - accuracy: 0.7614 - val_loss: 0.9301 - val_accuracy: 0.7909\n",
            "Epoch 3/30\n",
            "1875/1875 [==============================] - 5s 3ms/step - loss: 0.9900 - accuracy: 0.7634 - val_loss: 0.9124 - val_accuracy: 0.7979\n",
            "Epoch 4/30\n",
            "1875/1875 [==============================] - 5s 3ms/step - loss: 0.9887 - accuracy: 0.7638 - val_loss: 0.9394 - val_accuracy: 0.7855\n",
            "Epoch 5/30\n",
            "1875/1875 [==============================] - 6s 3ms/step - loss: 0.9881 - accuracy: 0.7641 - val_loss: 0.9291 - val_accuracy: 0.7773\n"
          ]
        },
        {
          "output_type": "execute_result",
          "data": {
            "text/plain": [
              "<keras.callbacks.History at 0x7fecac0c0790>"
            ]
          },
          "metadata": {},
          "execution_count": 47
        }
      ],
      "source": [
        "mlp_model_3 = tf.keras.Sequential([\n",
        "    tf.keras.layers.Flatten(input_shape=(28, 28)),\n",
        "    tf.keras.layers.Dense(128, activation='relu', kernel_regularizer='l2', bias_regularizer='l2'),\n",
        "    tf.keras.layers.Dropout(0.5),\n",
        "    tf.keras.layers.Dense(10, activation='softmax', kernel_regularizer='l2', bias_regularizer='l2')\n",
        "])\n",
        "mlp_model_3.compile(optimizer='adam',\n",
        "              loss=\"sparse_categorical_crossentropy\",\n",
        "              metrics=['accuracy'])\n",
        "\n",
        "es_callback = tf.keras.callbacks.EarlyStopping(monitor='val_loss', patience=2)\n",
        "mlp_model_3.fit(train_images, train_labels, epochs=30, validation_data = (test_images, test_labels), callbacks=[es_callback])"
      ]
    },
    {
      "cell_type": "markdown",
      "metadata": {
        "id": "KsWvrcQeZ0PF"
      },
      "source": [
        "# 3. Bộ học kết hợp"
      ]
    },
    {
      "cell_type": "markdown",
      "metadata": {
        "id": "k7Wn3eTuZ0PF"
      },
      "source": [
        "## 3.1. Voting"
      ]
    },
    {
      "cell_type": "markdown",
      "metadata": {
        "id": "esyngS6bZ0PF"
      },
      "source": [
        "Ta dùng 3 mô hình cơ sở như sau để thực hiện voting:\n",
        "\n",
        "**Mô hình 1**: mạng MLP 1 tầng ẩn."
      ]
    },
    {
      "cell_type": "code",
      "execution_count": null,
      "metadata": {
        "colab": {
          "base_uri": "https://localhost:8080/"
        },
        "id": "jDkyhYdZZ0PG",
        "outputId": "6ae09337-eeb4-482b-c437-af628a563ec3"
      },
      "outputs": [
        {
          "output_type": "stream",
          "name": "stdout",
          "text": [
            "Epoch 1/10\n",
            "1875/1875 [==============================] - 5s 3ms/step - loss: 0.5008 - accuracy: 0.8239\n",
            "Epoch 2/10\n",
            "1875/1875 [==============================] - 4s 2ms/step - loss: 0.3752 - accuracy: 0.8659\n",
            "Epoch 3/10\n",
            "1875/1875 [==============================] - 4s 2ms/step - loss: 0.3378 - accuracy: 0.8768\n",
            "Epoch 4/10\n",
            "1875/1875 [==============================] - 4s 2ms/step - loss: 0.3134 - accuracy: 0.8850\n",
            "Epoch 5/10\n",
            "1875/1875 [==============================] - 4s 2ms/step - loss: 0.2972 - accuracy: 0.8902\n",
            "Epoch 6/10\n",
            "1875/1875 [==============================] - 4s 2ms/step - loss: 0.2807 - accuracy: 0.8964\n",
            "Epoch 7/10\n",
            "1875/1875 [==============================] - 4s 2ms/step - loss: 0.2702 - accuracy: 0.8991\n",
            "Epoch 8/10\n",
            "1875/1875 [==============================] - 5s 3ms/step - loss: 0.2586 - accuracy: 0.9055\n",
            "Epoch 9/10\n",
            "1875/1875 [==============================] - 4s 2ms/step - loss: 0.2474 - accuracy: 0.9079\n",
            "Epoch 10/10\n",
            "1875/1875 [==============================] - 4s 2ms/step - loss: 0.2392 - accuracy: 0.9114\n"
          ]
        },
        {
          "output_type": "execute_result",
          "data": {
            "text/plain": [
              "<keras.callbacks.History at 0x7febe20e5490>"
            ]
          },
          "metadata": {},
          "execution_count": 48
        }
      ],
      "source": [
        "model_1 = tf.keras.Sequential([\n",
        "    tf.keras.layers.Flatten(input_shape=(28, 28)),\n",
        "    tf.keras.layers.Dense(128, activation='relu'),\n",
        "    tf.keras.layers.Dense(10, activation='softmax')\n",
        "])\n",
        "model_1.compile(optimizer='adam',\n",
        "              loss=\"sparse_categorical_crossentropy\",\n",
        "              metrics=['accuracy'])\n",
        "model_1.fit(train_images, train_labels, epochs=10)"
      ]
    },
    {
      "cell_type": "markdown",
      "metadata": {
        "id": "ezGty4f0Z0PG"
      },
      "source": [
        "**Mô hình 2**: mạng CNN đơn giản."
      ]
    },
    {
      "cell_type": "code",
      "execution_count": null,
      "metadata": {
        "colab": {
          "base_uri": "https://localhost:8080/"
        },
        "id": "NwWSE0qDZ0PG",
        "outputId": "14f15f9b-56e9-4ae9-a4a0-a4cccad9a95e"
      },
      "outputs": [
        {
          "output_type": "stream",
          "name": "stdout",
          "text": [
            "Epoch 1/10\n",
            "1875/1875 [==============================] - 5s 3ms/step - loss: 0.4659 - accuracy: 0.8381\n",
            "Epoch 2/10\n",
            "1875/1875 [==============================] - 5s 3ms/step - loss: 0.3354 - accuracy: 0.8834\n",
            "Epoch 3/10\n",
            "1875/1875 [==============================] - 5s 3ms/step - loss: 0.3016 - accuracy: 0.8941\n",
            "Epoch 4/10\n",
            "1875/1875 [==============================] - 5s 3ms/step - loss: 0.2787 - accuracy: 0.9025\n",
            "Epoch 5/10\n",
            "1875/1875 [==============================] - 5s 3ms/step - loss: 0.2630 - accuracy: 0.9074\n",
            "Epoch 6/10\n",
            "1875/1875 [==============================] - 5s 3ms/step - loss: 0.2494 - accuracy: 0.9128\n",
            "Epoch 7/10\n",
            "1875/1875 [==============================] - 5s 3ms/step - loss: 0.2373 - accuracy: 0.9161\n",
            "Epoch 8/10\n",
            "1875/1875 [==============================] - 5s 3ms/step - loss: 0.2288 - accuracy: 0.9187\n",
            "Epoch 9/10\n",
            "1875/1875 [==============================] - 5s 2ms/step - loss: 0.2197 - accuracy: 0.9211\n",
            "Epoch 10/10\n",
            "1875/1875 [==============================] - 5s 2ms/step - loss: 0.2123 - accuracy: 0.9238\n"
          ]
        },
        {
          "output_type": "execute_result",
          "data": {
            "text/plain": [
              "<keras.callbacks.History at 0x7febe2045450>"
            ]
          },
          "metadata": {},
          "execution_count": 49
        }
      ],
      "source": [
        "model_2 = tf.keras.Sequential([\n",
        "    tf.keras.layers.Reshape((28, 28, 1), input_shape=(28, 28)),\n",
        "    tf.keras.layers.Conv2D(16, (3, 3), activation='relu'),\n",
        "    tf.keras.layers.MaxPooling2D(pool_size=(2, 2)),\n",
        "    tf.keras.layers.Flatten(),\n",
        "    tf.keras.layers.Dense(10, activation='softmax')\n",
        "])\n",
        "model_2.compile(optimizer='adam',\n",
        "              loss=\"sparse_categorical_crossentropy\",\n",
        "              metrics=['accuracy'])\n",
        "model_2.fit(train_images, train_labels, epochs=10)"
      ]
    },
    {
      "cell_type": "markdown",
      "metadata": {
        "id": "2SBQvWMEZ0PG"
      },
      "source": [
        "**Mô hình 3**: Hồi quy logistic."
      ]
    },
    {
      "cell_type": "code",
      "execution_count": null,
      "metadata": {
        "colab": {
          "base_uri": "https://localhost:8080/"
        },
        "id": "FOBcWuyOZ0PH",
        "outputId": "83560b82-d2ab-4c34-9b98-2194258aaad8"
      },
      "outputs": [
        {
          "output_type": "stream",
          "name": "stderr",
          "text": [
            "/usr/local/lib/python3.7/dist-packages/sklearn/linear_model/_logistic.py:818: ConvergenceWarning: lbfgs failed to converge (status=1):\n",
            "STOP: TOTAL NO. of ITERATIONS REACHED LIMIT.\n",
            "\n",
            "Increase the number of iterations (max_iter) or scale the data as shown in:\n",
            "    https://scikit-learn.org/stable/modules/preprocessing.html\n",
            "Please also refer to the documentation for alternative solver options:\n",
            "    https://scikit-learn.org/stable/modules/linear_model.html#logistic-regression\n",
            "  extra_warning_msg=_LOGISTIC_SOLVER_CONVERGENCE_MSG,\n"
          ]
        },
        {
          "output_type": "execute_result",
          "data": {
            "text/plain": [
              "LogisticRegression()"
            ]
          },
          "metadata": {},
          "execution_count": 50
        }
      ],
      "source": [
        "from sklearn.linear_model import LogisticRegression\n",
        "model_3 = LogisticRegression()\n",
        "model_3.fit(train_images.reshape(-1, 28*28), train_labels)"
      ]
    },
    {
      "cell_type": "markdown",
      "metadata": {
        "id": "8MldpVhNZ0PH"
      },
      "source": [
        "Dự đoán của từng mô hình đơn lẻ:"
      ]
    },
    {
      "cell_type": "code",
      "execution_count": null,
      "metadata": {
        "colab": {
          "base_uri": "https://localhost:8080/"
        },
        "id": "4dzLkhcEZ0PH",
        "outputId": "49eb6565-8bfe-4257-9f1a-e08ee949d8b8"
      },
      "outputs": [
        {
          "output_type": "stream",
          "name": "stdout",
          "text": [
            "313/313 [==============================] - 1s 2ms/step\n",
            "313/313 [==============================] - 1s 2ms/step\n"
          ]
        }
      ],
      "source": [
        "predictions_1 = model_1.predict(test_images)\n",
        "predictions_2 = model_2.predict(test_images)\n",
        "predictions_3 = model_3.predict_proba(test_images.reshape(-1, 28*28))"
      ]
    },
    {
      "cell_type": "markdown",
      "metadata": {
        "id": "qYpy4nQXZ0PH"
      },
      "source": [
        "Tính toán độ chính xác của các mô hình đơn lẻ:"
      ]
    },
    {
      "cell_type": "code",
      "execution_count": null,
      "metadata": {
        "colab": {
          "base_uri": "https://localhost:8080/"
        },
        "id": "bLyUk5IzZ0PH",
        "outputId": "a20f98c5-2281-417e-a2a3-0af2e08fa8a2"
      },
      "outputs": [
        {
          "output_type": "stream",
          "name": "stdout",
          "text": [
            "model 1 acc: 0.884\n",
            "model 2 acc: 0.8984\n",
            "model 3 acc: 0.8439\n"
          ]
        }
      ],
      "source": [
        "from sklearn.metrics import accuracy_score\n",
        "\n",
        "classes_1 = np.argmax(predictions_1, axis=-1)\n",
        "classes_2 = np.argmax(predictions_2, axis=-1)\n",
        "classes_3 = np.argmax(predictions_3, axis=-1)\n",
        "\n",
        "print('model 1 acc:', accuracy_score(test_labels, classes_1))\n",
        "print('model 2 acc:', accuracy_score(test_labels, classes_2))\n",
        "print('model 3 acc:', accuracy_score(test_labels, classes_3))"
      ]
    },
    {
      "cell_type": "markdown",
      "metadata": {
        "id": "Hli1dFkQZ0PI"
      },
      "source": [
        "**Cách 1**: dự đoán dựa trên nhãn cuối cùng."
      ]
    },
    {
      "cell_type": "code",
      "execution_count": null,
      "metadata": {
        "colab": {
          "base_uri": "https://localhost:8080/"
        },
        "id": "fjSKXi4gZ0PI",
        "outputId": "87930bcc-fd16-4a49-f653-91834c3ce1c3"
      },
      "outputs": [
        {
          "output_type": "stream",
          "name": "stdout",
          "text": [
            "vote 1 acc: 0.8899\n"
          ]
        }
      ],
      "source": [
        "from scipy import stats\n",
        "\n",
        "voted_1 = stats.mode([classes_1, classes_2, classes_3])[0][0]\n",
        "print('vote 1 acc:', accuracy_score(test_labels, voted_1))"
      ]
    },
    {
      "cell_type": "markdown",
      "metadata": {
        "id": "N7JpqeSCZ0PI"
      },
      "source": [
        "**Cách 2**: dự đoán dựa trên độ tin cậy mô hình."
      ]
    },
    {
      "cell_type": "code",
      "execution_count": null,
      "metadata": {
        "colab": {
          "base_uri": "https://localhost:8080/"
        },
        "id": "AkgR_zBmZ0PI",
        "outputId": "b1f180fa-b9a1-4158-bd0a-47bdbcd21ad6"
      },
      "outputs": [
        {
          "output_type": "stream",
          "name": "stdout",
          "text": [
            "vote 2 acc: 0.8974\n"
          ]
        }
      ],
      "source": [
        "predictions_v = predictions_1 + predictions_2 + predictions_3\n",
        "voted_2 = np.argmax(predictions_v, axis=-1)\n",
        "\n",
        "print('vote 2 acc:', accuracy_score(test_labels, voted_2))"
      ]
    },
    {
      "cell_type": "markdown",
      "metadata": {
        "id": "Wp7X0FlSZ0PJ"
      },
      "source": [
        "# 4. Xử lý vấn đề không cân bằng dữ liệu"
      ]
    },
    {
      "cell_type": "markdown",
      "metadata": {
        "id": "LCJSTGuaZ0PJ"
      },
      "source": [
        "## 4.2. Weighted Training Loss\n",
        "\n",
        "Một trong các cách để xử lý vấn đề không cân bằng dữ liệu là sử dụng hàm mất mát có trọng số. Trọng số của một lớp được tính dựa trên số lượng ví dụ của lớp đó. Lớp ít dữ liệu trọng số lớn hơn và ngược lại.\n",
        "\n",
        "Giả sử, số lượng dữ liệu cho từng nhãn tương ứng như sau (thực tế tập dữ liệu này cân bằng):"
      ]
    },
    {
      "cell_type": "code",
      "execution_count": null,
      "metadata": {
        "colab": {
          "base_uri": "https://localhost:8080/"
        },
        "id": "2YWj6hvaZ0PJ",
        "outputId": "32e0d91d-3862-4311-bd90-f91564109a47"
      },
      "outputs": [
        {
          "output_type": "stream",
          "name": "stdout",
          "text": [
            "weight 1: {0: 40.0, 1: 24.0, 2: 17.142857142857142, 3: 13.333333333333334, 4: 10.909090909090908, 5: 9.23076923076923, 6: 8.0, 7: 7.0588235294117645, 8: 6.315789473684211, 9: 5.714285714285714}\n",
            "weight 2: {0: 4.0, 1: 2.4, 2: 1.7142857142857142, 3: 1.3333333333333335, 4: 1.0909090909090908, 5: 0.923076923076923, 6: 0.8, 7: 0.7058823529411764, 8: 0.631578947368421, 9: 0.5714285714285714}\n"
          ]
        }
      ],
      "source": [
        "example_count = {\n",
        "    0: 1500,\n",
        "    1: 2500,\n",
        "    2: 3500,\n",
        "    3: 4500,\n",
        "    4: 5500,\n",
        "    5: 6500,\n",
        "    6: 7500,\n",
        "    7: 8500,\n",
        "    8: 9500,\n",
        "    9: 10500,\n",
        "}\n",
        "total = sum(example_count.values())\n",
        "\n",
        "weight_1 = {k: total/example_count[k] for k in example_count}\n",
        "\n",
        "# Scaling by total/num of class helps keep the loss to a similar magnitude.\n",
        "weight_2 = {k: total/example_count[k]/len(example_count) for k in example_count}\n",
        "print('weight 1:', weight_1)\n",
        "print('weight 2:', weight_2)"
      ]
    },
    {
      "cell_type": "markdown",
      "metadata": {
        "id": "KiW9RYEhZ0PJ"
      },
      "source": [
        "Sử dụng mô hình này trong huấn luyện mô hình như sau:"
      ]
    },
    {
      "cell_type": "code",
      "execution_count": null,
      "metadata": {
        "colab": {
          "base_uri": "https://localhost:8080/"
        },
        "id": "EPDog9UVZ0PJ",
        "outputId": "d17d3967-6583-4ce1-df54-47d5fc796b3c"
      },
      "outputs": [
        {
          "output_type": "stream",
          "name": "stdout",
          "text": [
            "Epoch 1/10\n",
            "1875/1875 [==============================] - 5s 3ms/step - loss: 0.6212 - accuracy: 0.8187\n",
            "Epoch 2/10\n",
            "1875/1875 [==============================] - 5s 3ms/step - loss: 0.4495 - accuracy: 0.8686\n",
            "Epoch 3/10\n",
            "1875/1875 [==============================] - 5s 3ms/step - loss: 0.4019 - accuracy: 0.8834\n",
            "Epoch 4/10\n",
            "1875/1875 [==============================] - 5s 3ms/step - loss: 0.3715 - accuracy: 0.8906\n",
            "Epoch 5/10\n",
            "1875/1875 [==============================] - 5s 3ms/step - loss: 0.3500 - accuracy: 0.8972\n",
            "Epoch 6/10\n",
            "1875/1875 [==============================] - 5s 3ms/step - loss: 0.3323 - accuracy: 0.9023\n",
            "Epoch 7/10\n",
            "1875/1875 [==============================] - 5s 3ms/step - loss: 0.3177 - accuracy: 0.9064\n",
            "Epoch 8/10\n",
            "1875/1875 [==============================] - 5s 3ms/step - loss: 0.3048 - accuracy: 0.9098\n",
            "Epoch 9/10\n",
            "1875/1875 [==============================] - 5s 3ms/step - loss: 0.2928 - accuracy: 0.9125\n",
            "Epoch 10/10\n",
            "1875/1875 [==============================] - 5s 3ms/step - loss: 0.2838 - accuracy: 0.9150\n"
          ]
        },
        {
          "output_type": "execute_result",
          "data": {
            "text/plain": [
              "<keras.callbacks.History at 0x7febec064590>"
            ]
          },
          "metadata": {},
          "execution_count": 56
        }
      ],
      "source": [
        "model_w = tf.keras.Sequential([\n",
        "    tf.keras.layers.Reshape((28, 28, 1), input_shape=(28, 28)),\n",
        "    tf.keras.layers.Conv2D(16, (3, 3), activation='relu'),\n",
        "    tf.keras.layers.MaxPooling2D(pool_size=(2, 2)),\n",
        "    tf.keras.layers.Flatten(),\n",
        "    tf.keras.layers.Dense(10, activation='softmax')\n",
        "])\n",
        "model_w.compile(optimizer='adam',\n",
        "              loss=\"sparse_categorical_crossentropy\",\n",
        "              metrics=['accuracy'])\n",
        "\n",
        "model_w.fit(train_images, train_labels, epochs=10, class_weight=weight_2)"
      ]
    },
    {
      "cell_type": "code",
      "execution_count": null,
      "metadata": {
        "id": "XNozwRwNZ0PK"
      },
      "outputs": [],
      "source": []
    }
  ],
  "metadata": {
    "kernelspec": {
      "display_name": "Python 3",
      "language": "python",
      "name": "python3"
    },
    "language_info": {
      "codemirror_mode": {
        "name": "ipython",
        "version": 3
      },
      "file_extension": ".py",
      "mimetype": "text/x-python",
      "name": "python",
      "nbconvert_exporter": "python",
      "pygments_lexer": "ipython3",
      "version": "3.8.5"
    },
    "colab": {
      "provenance": [],
      "toc_visible": true,
      "collapsed_sections": [
        "cIwUwhWIZ0O0",
        "lL1I3Z8wZ0O1",
        "E-xENEABZ0O2",
        "-AkHzv2TZ0O3",
        "G-JRNktTZ0O3",
        "gsf6KNhUZ0O3",
        "EVVYHL_aZ0O5",
        "jwKx0B8sZ0O5",
        "XHJNO8ULZ0O7",
        "nLKsLgKLZ0O9",
        "4ReBp-leZ0O9",
        "mCsVC691Z0O9",
        "SKZv0THMZ0PC",
        "nJmKK3jXZ0PD",
        "KLbmNueeZ0PE",
        "eoRs_iyuZ0PE",
        "dk5xap4IZ0PF",
        "k7Wn3eTuZ0PF",
        "LCJSTGuaZ0PJ"
      ]
    },
    "accelerator": "GPU",
    "gpuClass": "standard"
  },
  "nbformat": 4,
  "nbformat_minor": 0
}